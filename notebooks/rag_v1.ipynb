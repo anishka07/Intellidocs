{
 "cells": [
  {
   "cell_type": "code",
   "execution_count": 35,
   "metadata": {},
   "outputs": [],
   "source": [
    "import requests\n",
    "import os \n",
    "\n",
    "root_path = os.path.join(os.path.dirname(os.path.abspath(os.getcwd())))\n",
    "pdf_dir_path = os.path.join(root_path, 'pdfs')"
   ]
  },
  {
   "cell_type": "code",
   "execution_count": 36,
   "metadata": {},
   "outputs": [],
   "source": [
    "sample_pdf_path = os.path.join(pdf_dir_path, 'monopoly.pdf')\n",
    "\n",
    "def pdf_downloader(pdf_path: str, url):\n",
    "    if not os.path.exists(pdf_path):\n",
    "        print(\"File doesnot exists, downloading...\")\n",
    "        response = requests.get(url)\n",
    "        if response.status_code == 200:\n",
    "            with open(pdf_path, 'wb') as f:\n",
    "                f.write(response.content)\n",
    "                print(\"File saved successfully!\")\n",
    "        else:\n",
    "            print(\"Error downloading pdf.\")\n",
    "    else:\n",
    "        print(\"File already exists.\")"
   ]
  },
  {
   "cell_type": "code",
   "execution_count": 37,
   "metadata": {},
   "outputs": [
    {
     "name": "stdout",
     "output_type": "stream",
     "text": [
      "File already exists.\n"
     ]
    }
   ],
   "source": [
    "pdf_downloader(pdf_path=sample_pdf_path, url='https://www.hasbro.com/common/instruct/00009.pdf')"
   ]
  },
  {
   "cell_type": "code",
   "execution_count": 38,
   "metadata": {},
   "outputs": [
    {
     "data": {
      "text/plain": [
       "'\"GO\": Each time a player\\'s token lands on or passes over \\nGO, whether by throwing the dice or drawing a card, \\nthe Banker pays himther a $200 sala,ry. \\nThe $200 is paid only once each time kound \\nthe board. However, if a player passing GO on \\nthe throw of the dice lands 2 spaces beyond it \\non Community Chest, or 7 spaces beyond \\nit on Chance, and draws the \"Advance to GO\" card, helshe collects \\n$200 for passing GO the first time and another $200 for reaching it the \\nsecond time by instructions on the card. \\nBUYING PROPERTY: Whenever you land on an unowned property you \\nmay buy that property from the Bank at its printed price. You receive the \\nTitle Deed card showing ownership; place it faceup in front of you. \\nIf you do not wish to buy the property, the Banker sells it at auction \\nto the highest bidder. The buyer pays the Bank the amount of the bid \\nin cash and receives the Title Deed card for that property. Any player, \\nincluding the one who declined the option to buy it at the printed \\nprice, may bid. Bidding may start at any price. \\nPAMNG \\n When you land on property owned by another player, \\nthe owner collects rent from you in accordance with the list printed on \\nits Title Deed card. \\nIf the property is mortgaged, no rent can be collected. When a \\nproperty is mortgaged, its Title Deed card is placed facedown in front \\nof the owner. \\nL \\nIt is an advantage to hold all the Title Deed cards in a color- \\ngroup (e.g., Boardwalk and Park Place; or Connecticut, Vermont and \\nOriental Avenues) because the owner may then charge double rent \\nfor unimproved properties in that color-group. This rule applies to \\nunmortgaged properties even if another property in that color-group is \\nmortgaged. \\nIt is even more advantageous to have houses or hotels on properties \\nbecause rents are much higher than for unimproved properties. \\nThe owner may not collect the rent if he/she fails to ask for it before \\nthe second player following throws the dice. \\n\"CHANCE\" AND \"COMMUNITY CHEST\": When you land on either of \\nthese spaces, take the top card from the deck indicated, follow the '"
      ]
     },
     "execution_count": 38,
     "metadata": {},
     "output_type": "execute_result"
    }
   ],
   "source": [
    "## Extract text \n",
    "\n",
    "## Example\n",
    "\n",
    "from pypdf import PdfReader\n",
    "\n",
    "reader = PdfReader(sample_pdf_path)\n",
    "page = reader.pages[3]\n",
    "\n",
    "page.extract_text()"
   ]
  },
  {
   "cell_type": "code",
   "execution_count": 39,
   "metadata": {},
   "outputs": [
    {
     "data": {
      "text/plain": [
       "'MONOPOLY \\nProperty Trading Game from Parker Brothers\" \\nAGES 8+ \\n2 to 8 Players \\nContents: Gameboard, 3 dice, tokens, 32 houses, I2 hotels, Chance \\nand Community Chest cards, Title Deed cards, play money and a Banker\\'s tray. \\nNow there\\'s a faster way to play MONOPOLY. Choose to play by \\nthe classic rules for buying, renting and selling properties or use the \\nSpeed Die to get into the action faster. If you\\'ve never played the classic \\nMONOPOLY game, refer to the Classic Rules beginning on the next page. \\nIf you already know how to play and want to use the Speed Die, just \\nread the section below for the additional Speed Die rules. \\nSPEED DIE RULES \\nLearnins how to Play with the S~eed Die IS as \\n/ \\nfast as playing with i\\'t. \\n1. When starting the game, hand out an extra $1,000 to each player \\n(two $5005 should work). The game moves fast and you\\'ll need \\nthe extra cash to buy and build. \\n2. Do not use the Speed Die until you\\'ve landed on or passed over \\nGO for the first time. Once you collect that first $200 salary, you\\'ll \\nuse the Speed Die for the rest of the game. This means that some \\nplayers will start using the die before others. \\n3. Once you start using the Speed Die, roll it along with the two \\nwhite dice on your turn. Then do the following depending on \\nwhat you rolled. \\n1, 2, or 3: Add this number to the roll of the two white \\ndice. You\\'ll zoom around the board. Bus: This lets you \"get off the bus early.\" Look at the two white \\ndice. You can move the value of one die, the other die, or the \\nsum of both dice. So if you rolled a 1 and a 5, you can move \\n1 space, 5 spaces, or 6 spaces: \\\\t\\'s your choice. \\nMr. Monopoly: First, move the sum of the two white dice \\nand resolve the space you land on (such as drawing a card, \\nbuying the property, paying rent, etc.). Then, one of two \\nthings will happen depending on whether or not there is still \\nproperty in the bank. \\nYES, there is property in the bank -Advance to the NEXT \\nproperty that the bank still holds and buy it if you wish. If you \\ndon\\'t want to buy this property, move to the space anyway \\nand put the property up for auction. \\nNO, there are no more properties in the bank - Advance to the \\nNOCT property on which you will owe another player money. \\nA few minor details: \\nOnly the white dice are used when determining if you rolled doubles. \\nDo not look at the Speed Die. \\nIf you roll a three-of-a-kind (all of the dice show the same number), \\nyou can move anywhere you want on the board! \\nIf you get sent to jail during your move (either by landing on the \"Go \\nto Jail\" space or by rolling doubles three times in a row) then your turn \\nis over and you do not get to use the Speed Die for that turn. \\nUse the white dice ONLY when rolling to get out of jail. \\nL \\nUse the sum of all three dice when determining how much to pay on \\na utility. Note: The Bus and Mr. Monopoly are valued at 0. \\nCLASSIC MONOPOW RULES \\nOBJECT: The object of the game IS to become the \\nwealthiest player through buying, renting and selling \\nproperty. \\nPREPARATION: Place the board on a table and put \\nthe Chance and Community Chest cards facedown on \\ntheir allotted spaces on the board. Each player chooses one token to \\nrepresent himther while traveling around the board. Each player is given $1,500 divided as follows: P each of $500s, \\n$100~ and $50~; 6 $40~; 5 each of $105, $5~ and $Is. \\nAll remaining money and other equipment go to the Bank. Stack the .. \\nBank\\'s money on edge in the compartments in the plastic Banker\\'s tray. \\nBANKER. Select as Banker a player who will also \\nmake a good Auctioneer A Banker who plays \\n~n the game must keep hislher personal funds \\nseparate from those of the Bank. When more than \\nf~ve persons play, the Banker may elect to act only \\nas Banker and Auctioneer. \\nTHE BANK: Besides the Bank\\'s money, the Bank \\nholds the Title Deed cards and houses and hotels prior to purchase \\nand use by the players. The Bank pays salaries and bonuses. It sells \\nand auctions properties and hands out the~r proper Title Deed cards; \\nit sells houses and hotels to the players and loans money when \\nrequired on mortgages. \\nThe Bank collects all taxes, fines, loans and interest, and the price of \\nall properties which it sells and auctions. \\nThe Bank nwer \"goes broke.\" If the Bank runs out of money, the Banker \\nmay issue as much more as needed by writing on any ordinary paper. \\nTHE PLAY: Starting with the Banker, each player in turn throws the dice. \\nThe player with the highest total starts the play: Place your \\ntoken on the corner marked \"GO,\" throw the dice and move \\nyour token in the direction of the arrow the number of \\nspaces indicated by the dice. After you have completed \\nyour play, the turn passes to the left. The tokens remain \\non the spaces qccupied and proceed from that point on \\nthe player\\'s next turn. Two or more tokens may rest on the \\nsame space at the same time. \\nAccording to the space your token reaches, you may be entitled to \\nbuy real estate or other properties - or obliged to pay rent, pay taxes, \\ndraw a Chance or Community Chest card, \"Go to Jail,\" etc. \\nIf you throw doubles, you move your token as usual, the sum of the \\ntwo dice, and are subject to any privileges or penalties pertaining to \\nthe space on which you land. Retaining the dice, throw again and move \\nyour token as before. If you throw doubles three times in succession, \\nmove your token immediately to the space marked \"In Jail\" (see JAIL). \"GO\": Each time a player\\'s token lands on or passes over \\nGO, whether by throwing the dice or drawing a card, \\nthe Banker pays himther a $200 sala,ry. \\nThe $200 is paid only once each time kound \\nthe board. However, if a player passing GO on \\nthe throw of the dice lands 2 spaces beyond it \\non Community Chest, or 7 spaces beyond \\nit on Chance, and draws the \"Advance to GO\" card, helshe collects \\n$200 for passing GO the first time and another $200 for reaching it the \\nsecond time by instructions on the card. \\nBUYING PROPERTY: Whenever you land on an unowned property you \\nmay buy that property from the Bank at its printed price. You receive the \\nTitle Deed card showing ownership; place it faceup in front of you. \\nIf you do not wish to buy the property, the Banker sells it at auction \\nto the highest bidder. The buyer pays the Bank the amount of the bid \\nin cash and receives the Title Deed card for that property. Any player, \\nincluding the one who declined the option to buy it at the printed \\nprice, may bid. Bidding may start at any price. \\nPAMNG \\n When you land on property owned by another player, \\nthe owner collects rent from you in accordance with the list printed on \\nits Title Deed card. \\nIf the property is mortgaged, no rent can be collected. When a \\nproperty is mortgaged, its Title Deed card is placed facedown in front \\nof the owner. \\nL \\nIt is an advantage to hold all the Title Deed cards in a color- \\ngroup (e.g., Boardwalk and Park Place; or Connecticut, Vermont and \\nOriental Avenues) because the owner may then charge double rent \\nfor unimproved properties in that color-group. This rule applies to \\nunmortgaged properties even if another property in that color-group is \\nmortgaged. \\nIt is even more advantageous to have houses or hotels on properties \\nbecause rents are much higher than for unimproved properties. \\nThe owner may not collect the rent if he/she fails to ask for it before \\nthe second player following throws the dice. \\n\"CHANCE\" AND \"COMMUNITY CHEST\": When you land on either of \\nthese spaces, take the top card from the deck indicated, follow the instructions and return the card facedown to the bottom of the deck. \\nThe \"Get Out of Jail Free\" card is held until used and then returned to \\nthe bottom of the deck. If the player who draws it does not wish to use \\nit, helshe may sell it, at any time, to another player at a price agreeable \\nto both. \\n\"INCOME TAX\": If you land here you have two options: You may \\nestimate your tax at $900 and pay the Bank, or you may pay 10% of \\nyour total worth to the Bank. Your total worth is all your cash on hand, \\nprinted prices of mortgaged and unmortgaged properties and cost \\nprice of all buildings you own. \\nYou must decide which option you will take before you add up \\nyour total worth. \\n\"JAIL\": You land in Jail when. ..(I) your token lands on the space \\nmarked \"Go to Jail\"; (2) you draw a card marked \"Go to JailN; or \\n(3) you throw doubles three times in succession. \\nWhen you are sent to Jail you cannot \\ncollect your $200 salary in that move \\nsince, regardless of where your token \\nis on the board, you must move it \\ndirectly into Jail. Your turn ends when \\nyou are sent to Jail. \\nIf you are not \"sent\" to Jail but in the ordinary course of play land on \\nthat space, you are \"Just Visiting,\" you incur no penalty, and you move \\nahead in the usual manner on your next turn. \\nYou get out of Jail by.. .(I) throwing doubles on any of your next \\nthree turns; if you succeed in doing this you immediately move forward \\nthe number of spaces shown by your doubles throw; even though you \\nhad thrown doubles, you do not take another turn; (2) using the \"Get \\nOut of Jail Free\" card if you have it; (3) purchasing the \"Get Out of Jail \\nFree\" card from another player and playing it; (4) paying a fine of $50 \\nbefore you roll the dice on either of your next two turns. \\nIf you do not throw doubles by your third turn, you must pay the $50 \\nfine. You then get out of Jail and immediately move forward the number \\nof spaces shown by your throw. \\nEven though you are in Jail, you may buy and sell property, buy and \\nsell houses and hotels and collect rents. \"FREE PARKING\": A player landing on this place does not \\nreceive any money, property or reward of any kind. This is just a \"free\" \\nresting place. \\nHOUSES: When you own all the propert~es in a color-group \\nyou may buy houses from the Bank and erect them on those properties. \\nIf you buy one house, you may put it on any \\none of those properties. The next house you \\nbuy must be erected on one of the unimproved \\nproperties of this or any other complete color- \\ngroup you may own. \\nThe price you must pay the Bank for each \\nhouse is shown on your ltle Deed card for the \\nproperty on which you erect the house. \\nThe owner still collects double rent from an opponent who lands on \\nthe unimproved properties of hisher complete color-group. \\nFollowing the above rules, you may buy and erect at any time as \\nmany houses as your judgement and financial standing will allow. But \\nyou must build evenly, i.e., you cannot erect more than one house on \\nany one property of any color-group until you have built one house on \\nwery property of that group. You may then begin on the second row \\nof houses, and so on, up to a limit of four houses to a property. For \\nexample, you cannot build three houses on one property if you have \\nonly one house on another property of that group. \\nAs you build evenly, you must also break down evenly ifyou sell \\nhouses back to the Bank (see SELLING PROPERTY). \\nHOTELS: When a player has four houses on each property of a \\ncomplete color-group, hdshe may buy a hotel from the Bank and erect \\nit on any property of the color-group. Hdshe returns the four houses \\nfrom that property to the Bank and pays the price for the hotel as shown \\non the Ttle Deed card. Only one hotel may be erected on any one \\nproperty. \\nBUILDING SHORTAGES: When the Bank has no houses to sell, players \\nwishing to build must wait for some player to return or sell histher \\nhouses to the Bank before building. If there are a limited number of \\nhouses and hotels available and two or more players wish to buy more \\nthan the Bank has, the houses or hotels must be sold at auction to the \\nhighest bidder. SELLING PROPERN: Unimproved properties, railroads and util~ties \\n(but not buildings) may be sold to any player as a private transaction \\nfor any amount the owner can get; however, no property can be sold to \\n- \\nanother player if buildings are standing on any properties of that color- \\ngroup. Any buildings so located must be sold back to the Bank before \\nthe owner can sell any property of that color-group. \\nHouses and hotels may be sold back to the Bank at any time for one- \\nhalf the price paid for them. \\nAll houses on one color-group must be sold one by one, evenly, in \\nreverse of the manner in which they were erected. \\nAll hotels on one color-group may be sold at once, or they may be \\nsold one house at a time (one hotel equals five houses), evenly, in \\nreverse of the manner in which they were erected. \\nMORTGAGES: Unimproved properties can be mortgaged through the \\nBank at any time. Before an improved property can be mortgaged, all \\nthe buildings on all the properties of its color-group must be sold back \\nto the Bank at half price. The mortgage value is printed on each Title \\nDeed card. \\nNo rent can be collected on mortgaged properties or utilities, \\nbut rent can be collected on unmortgaged properties in the \\nsame group. \\nIn order to lift the mortgage, the owner must pay the Bank the \\namount of the mortgage plus 10% interest. When all the propert~es of \\na color-group are no longer mortgaged, the owner may begin to buy \\nback houses at full price. \\nThe player who mortgages property retains possession of it and \\nno other player may secure it by lifting the mortgage from the Bank. \\nHowever, the owner may sell this mortgaged property to another player \\nat any agreed price. If you are the new owner, you may lift the mortgage \\nat once if you wish by paying off the mortgage plus \\n10% interest to the Bank. If the mortgage is not lifted \\nat once, you must pay the Bank 10% interest when \\nyou buy the property and if you lift the \\nmortgage later you must pay the Bank \\nan additional 10% interest as well \\nas the amount of the mortgage. \\nn BANKRUPTCY.. You are declared bankrupt if you owe more than you \\ncan pay either to another player or to the Bank. If your \\n , \\ndebt is to another player, you must tum over to that \\nplayer all that you have of value and retire from the \\ngame. In making this settlement, if you own houses or \\nhotels, you must retum these to the Bank in exchange \\nfor money to the extent of one-half the amount paid \\nfor them; this cash is given to the creditor. If you have \\nmortgaged property you also turn this property over \\nto your creditor but the new owner must at once pay . \\nthe Bank the amount of interest on the loan, which is 10% of the value of \\nthe property. The new owner who does this may then, at hislher option, \\npay the principal or hold the property until some later turn, then lift the \\nmortgage. If helshe holds property in this way until a later turn, helshe \\nmust pay the interest again upon lifting the mortgage. \\nShould you owe the Bank, instead of another player, more than you \\ncan pay (because of taxes or penalties) even by selling off buildings \\nand mortgaging property, you must turn over all assets to the Bank. In \\nthis case, the Bank immediately sells by auction all property so taken, \\nexcept buildings. A bankrupt player must immediately retire from the \\ngame. The last player left in the game wins. \\nMISCEUANEOUS: Money can be loaned to a player only by the Bank \\nand then only by mortgaging property. No player may borrow from or \\nlend money to another player. \\nL \\nWe will be happy to hear your questions or comments about this game. Write to: Hasbro \\nGames, Consumer Affairs Dept., P.O. Box 200, Pawtucket, RI 02862. Tel: 888-836-7025 \\n(toll free). Canadian consumers please write to: Hasbro Canada Corporation, 2350 de la \\nProvince, Longueuil, QC Canada, J4G 1G2. \\nThe HASBRO, PARKER BROTHERS, and MONOPOLY names and logos, the distinctive design of \\nthe gameboard, the four comer squares, the MR. MONOPOLY name and character, and each of the \\ndistinctive elements of the board and rules are trademarks of Hasbro for its property trading game \\nand game equipment. 02004,2007 Hasbro, Pawtucket, RI 02862. \\nAll Rights Reserved. TM & @3 denote U.S. Trademarks. \\n00009-1 \\nPROOF OF PURCHASE I '"
      ]
     },
     "execution_count": 39,
     "metadata": {},
     "output_type": "execute_result"
    }
   ],
   "source": [
    "## Let's extract all the texts\n",
    "\n",
    "all_texts = ''\n",
    "for page in reader.pages:\n",
    "    all_texts += page.extract_text()\n",
    "all_texts"
   ]
  },
  {
   "cell_type": "code",
   "execution_count": 40,
   "metadata": {},
   "outputs": [],
   "source": [
    "def cleaner(text: str):\n",
    "    text = text.split()\n",
    "    y = [words for words in text if words.isalnum()]\n",
    "    return \" \".join(y)"
   ]
  },
  {
   "cell_type": "code",
   "execution_count": 41,
   "metadata": {},
   "outputs": [
    {
     "data": {
      "text/plain": [
       "'hi my name is anishka 37 and 23 this'"
      ]
     },
     "execution_count": 41,
     "metadata": {},
     "output_type": "execute_result"
    }
   ],
   "source": [
    "cleaner(\"hi my name is anishka 37 and 23 &&& this $^$%\")"
   ]
  },
  {
   "cell_type": "code",
   "execution_count": 42,
   "metadata": {},
   "outputs": [
    {
     "data": {
      "text/plain": [
       "'MONOPOLY Property Trading Game from Parker AGES 2 to 8 Players 3 32 I2 Chance and Community Chest Title Deed play money and a Now a faster way to play Choose to play by the classic rules for renting and selling properties or use the Speed Die to get into the action If never played the classic MONOPOLY refer to the Classic Rules beginning on the next If you already know how to play and want to use the Speed just read the section below for the additional Speed Die SPEED DIE RULES Learnins how to Play with the Die IS as fast as playing with When starting the hand out an extra to each player should The game moves fast and need the extra cash to buy and Do not use the Speed Die until landed on or passed over GO for the first Once you collect that first use the Speed Die for the rest of the This means that some players will start using the die before Once you start using the Speed roll it along with the two white dice on your Then do the following depending on what you or Add this number to the roll of the two white zoom around the This lets you off the bus Look at the two white You can move the value of one the other or the sum of both So if you rolled a 1 and a you can move 1 5 or 6 your move the sum of the two white dice and resolve the space you land on as drawing a buying the paying one of two things will happen depending on whether or not there is still property in the there is property in the bank to the NEXT property that the bank still holds and buy it if you If you want to buy this move to the space anyway and put the property up for there are no more properties in the bank Advance to the NOCT property on which you will owe another player A few minor Only the white dice are used when determining if you rolled Do not look at the Speed If you roll a of the dice show the same you can move anywhere you want on the If you get sent to jail during your move by landing on the to space or by rolling doubles three times in a then your turn is over and you do not get to use the Speed Die for that Use the white dice ONLY when rolling to get out of L Use the sum of all three dice when determining how much to pay on a The Bus and Monopoly are valued at CLASSIC MONOPOW RULES The object of the game IS to become the wealthiest player through renting and selling Place the board on a table and put the Chance and Community Chest cards facedown on their allotted spaces on the Each player chooses one token to represent himther while traveling around the Each player is given divided as P each of and 6 5 each of and All remaining money and other equipment go to the Stack the money on edge in the compartments in the plastic Select as Banker a player who will also make a good Auctioneer A Banker who plays the game must keep hislher personal funds separate from those of the When more than persons the Banker may elect to act only as Banker and THE Besides the the Bank holds the Title Deed cards and houses and hotels prior to purchase and use by the The Bank pays salaries and It sells and auctions properties and hands out proper Title Deed it sells houses and hotels to the players and loans money when required on The Bank collects all loans and and the price of all properties which it sells and The Bank nwer If the Bank runs out of the Banker may issue as much more as needed by writing on any ordinary THE Starting with the each player in turn throws the The player with the highest total starts the Place your token on the corner marked throw the dice and move your token in the direction of the arrow the number of spaces indicated by the After you have completed your the turn passes to the The tokens remain on the spaces qccupied and proceed from that point on the next Two or more tokens may rest on the same space at the same According to the space your token you may be entitled to buy real estate or other properties or obliged to pay pay draw a Chance or Community Chest to If you throw you move your token as the sum of the two and are subject to any privileges or penalties pertaining to the space on which you Retaining the throw again and move your token as If you throw doubles three times in move your token immediately to the space marked Each time a token lands on or passes over whether by throwing the dice or drawing a the Banker pays himther a The is paid only once each time kound the if a player passing GO on the throw of the dice lands 2 spaces beyond it on Community or 7 spaces beyond it on and draws the to helshe collects for passing GO the first time and another for reaching it the second time by instructions on the BUYING Whenever you land on an unowned property you may buy that property from the Bank at its printed You receive the Title Deed card showing place it faceup in front of If you do not wish to buy the the Banker sells it at auction to the highest The buyer pays the Bank the amount of the bid in cash and receives the Title Deed card for that Any including the one who declined the option to buy it at the printed may Bidding may start at any PAMNG When you land on property owned by another the owner collects rent from you in accordance with the list printed on its Title Deed If the property is no rent can be When a property is its Title Deed card is placed facedown in front of the L It is an advantage to hold all the Title Deed cards in a group Boardwalk and Park or Vermont and Oriental because the owner may then charge double rent for unimproved properties in that This rule applies to unmortgaged properties even if another property in that is It is even more advantageous to have houses or hotels on properties because rents are much higher than for unimproved The owner may not collect the rent if fails to ask for it before the second player following throws the AND When you land on either of these take the top card from the deck follow the instructions and return the card facedown to the bottom of the The Out of Jail card is held until used and then returned to the bottom of the If the player who draws it does not wish to use helshe may sell at any to another player at a price agreeable to If you land here you have two You may estimate your tax at and pay the or you may pay of your total worth to the Your total worth is all your cash on printed prices of mortgaged and unmortgaged properties and cost price of all buildings you You must decide which option you will take before you add up your total You land in Jail your token lands on the space marked to you draw a card marked to or you throw doubles three times in When you are sent to Jail you cannot collect your salary in that move regardless of where your token is on the you must move it directly into Your turn ends when you are sent to If you are not to Jail but in the ordinary course of play land on that you are you incur no and you move ahead in the usual manner on your next You get out of Jail throwing doubles on any of your next three if you succeed in doing this you immediately move forward the number of spaces shown by your doubles even though you had thrown you do not take another using the Out of Jail card if you have purchasing the Out of Jail card from another player and playing paying a fine of before you roll the dice on either of your next two If you do not throw doubles by your third you must pay the You then get out of Jail and immediately move forward the number of spaces shown by your Even though you are in you may buy and sell buy and sell houses and hotels and collect A player landing on this place does not receive any property or reward of any This is just a resting When you own all the in a you may buy houses from the Bank and erect them on those If you buy one you may put it on any one of those The next house you buy must be erected on one of the unimproved properties of this or any other complete group you may The price you must pay the Bank for each house is shown on your ltle Deed card for the property on which you erect the The owner still collects double rent from an opponent who lands on the unimproved properties of hisher complete Following the above you may buy and erect at any time as many houses as your judgement and financial standing will But you must build you cannot erect more than one house on any one property of any until you have built one house on wery property of that You may then begin on the second row of and so up to a limit of four houses to a For you cannot build three houses on one property if you have only one house on another property of that As you build you must also break down evenly ifyou sell houses back to the Bank SELLING When a player has four houses on each property of a complete hdshe may buy a hotel from the Bank and erect it on any property of the Hdshe returns the four houses from that property to the Bank and pays the price for the hotel as shown on the Ttle Deed Only one hotel may be erected on any one BUILDING When the Bank has no houses to players wishing to build must wait for some player to return or sell histher houses to the Bank before If there are a limited number of houses and hotels available and two or more players wish to buy more than the Bank the houses or hotels must be sold at auction to the highest SELLING Unimproved railroads and not may be sold to any player as a private transaction for any amount the owner can no property can be sold to another player if buildings are standing on any properties of that Any buildings so located must be sold back to the Bank before the owner can sell any property of that Houses and hotels may be sold back to the Bank at any time for half the price paid for All houses on one must be sold one by in reverse of the manner in which they were All hotels on one may be sold at or they may be sold one house at a time hotel equals five in reverse of the manner in which they were Unimproved properties can be mortgaged through the Bank at any Before an improved property can be all the buildings on all the properties of its must be sold back to the Bank at half The mortgage value is printed on each Title Deed No rent can be collected on mortgaged properties or but rent can be collected on unmortgaged properties in the same In order to lift the the owner must pay the Bank the amount of the mortgage plus When all the of a are no longer the owner may begin to buy back houses at full The player who mortgages property retains possession of it and no other player may secure it by lifting the mortgage from the the owner may sell this mortgaged property to another player at any agreed If you are the new you may lift the mortgage at once if you wish by paying off the mortgage plus interest to the If the mortgage is not lifted at you must pay the Bank interest when you buy the property and if you lift the mortgage later you must pay the Bank an additional interest as well as the amount of the n You are declared bankrupt if you owe more than you can pay either to another player or to the If your debt is to another you must tum over to that player all that you have of value and retire from the In making this if you own houses or you must retum these to the Bank in exchange for money to the extent of the amount paid for this cash is given to the If you have mortgaged property you also turn this property over to your creditor but the new owner must at once pay the Bank the amount of interest on the which is of the value of the The new owner who does this may at hislher pay the principal or hold the property until some later then lift the If helshe holds property in this way until a later helshe must pay the interest again upon lifting the Should you owe the instead of another more than you can pay of taxes or even by selling off buildings and mortgaging you must turn over all assets to the In this the Bank immediately sells by auction all property so except A bankrupt player must immediately retire from the The last player left in the game Money can be loaned to a player only by the Bank and then only by mortgaging No player may borrow from or lend money to another L We will be happy to hear your questions or comments about this Write Hasbro Consumer Affairs Box RI Canadian consumers please write Hasbro Canada 2350 de la QC J4G The PARKER and MONOPOLY names and the distinctive design of the the four comer the MONOPOLY name and and each of the distinctive elements of the board and rules are trademarks of Hasbro for its property trading game and game RI All Rights TM denote PROOF OF PURCHASE I'"
      ]
     },
     "execution_count": 42,
     "metadata": {},
     "output_type": "execute_result"
    }
   ],
   "source": [
    "cleaner(all_texts)"
   ]
  },
  {
   "cell_type": "code",
   "execution_count": 43,
   "metadata": {},
   "outputs": [],
   "source": [
    "## trying PyMuPDF\n",
    "## !pip install PyMuPDF tqdm\n",
    "\n",
    "import fitz\n",
    "from tqdm.auto import tqdm ## progress bars\n",
    "\n",
    "def text_formatter(text: str) -> str:\n",
    "    \"\"\"Performs basic text formatting\"\"\"\n",
    "    cleaned_text = text.replace(\"\\n\", \" \").strip()\n",
    "\n",
    "    return cleaned_text\n",
    "\n",
    "def open_read_pdfs(pdf_path: str) -> list[dict]:\n",
    "    doc = fitz.open(pdf_path)\n",
    "    pages_and_texts = []\n",
    "    for page_number, page in tqdm(enumerate(doc)):\n",
    "        text = page.get_text()\n",
    "        text = text_formatter(text=text)\n",
    "\n",
    "        pages_and_texts.append({\"page_number\": page_number, \n",
    "                                \"char_count\": len(text),\n",
    "                                \"page_word_count\": len(text.split(\" \")),\n",
    "                                \"page_sentence_count\": len(text.split(\". \")),\n",
    "                                \"page_token_count\": len(text) / 4,\n",
    "                                \"text\": text\n",
    "                                })\n",
    "    return pages_and_texts"
   ]
  },
  {
   "cell_type": "code",
   "execution_count": 44,
   "metadata": {},
   "outputs": [
    {
     "data": {
      "application/vnd.jupyter.widget-view+json": {
       "model_id": "674dcfc7ec1b45b4b3f38564ca116be8",
       "version_major": 2,
       "version_minor": 0
      },
      "text/plain": [
       "0it [00:00, ?it/s]"
      ]
     },
     "metadata": {},
     "output_type": "display_data"
    },
    {
     "data": {
      "text/plain": [
       "[{'page_number': 0,\n",
       "  'char_count': 1394,\n",
       "  'page_word_count': 291,\n",
       "  'page_sentence_count': 18,\n",
       "  'page_token_count': 348.5,\n",
       "  'text': 'MONOPOLY  Property Trading Game from Parker Brothers\"  AGES 8+  2 to 8 Players  Contents: Gameboard, 3 dice, tokens, 32 houses, I2 hotels, Chance  and Community Chest cards, Title Deed cards, play money and a Banker\\'s tray.  Now there\\'s a faster way to play MONOPOLY. Choose to play by  the classic rules for buying, renting and selling properties or use the  Speed Die to get into the action faster. If you\\'ve never played the classic  MONOPOLY game, refer to the Classic Rules beginning on the next page.  If you already know how to play and want to use the Speed Die, just  read the section below for the additional Speed Die rules.  SPEED DIE RULES  Learnins how to Play with the S ~ e e d   Die IS as  /  fast as playing with i\\'t.  1. When starting the game, hand out an extra $1,000 to each player  (two $5005 should work). The game moves fast and you\\'ll need  the extra cash to buy and build.  2. Do not use the Speed Die until you\\'ve landed on or passed over  GO for the first time. Once you collect that first $200 salary, you\\'ll  use the Speed Die for the rest of the game. This means that some  players will start using the die before others.  3. Once you start using the Speed Die, roll it along with the two  white dice on your turn. Then do the following depending on  what you rolled.  1, 2, or 3: Add this number to the roll of the two white  dice. You\\'ll zoom around the board.'},\n",
       " {'page_number': 1,\n",
       "  'char_count': 1847,\n",
       "  'page_word_count': 389,\n",
       "  'page_sentence_count': 19,\n",
       "  'page_token_count': 461.75,\n",
       "  'text': 'Bus: This lets you \"get off the bus early.\" Look at the two white  dice. You can move the value of one die, the other die, or the  sum of both dice. So if you rolled a 1 and a 5, you can move  1 space, 5 spaces, or 6 spaces: \\\\t\\'s your choice.  Mr. Monopoly: First, move the sum of the two white dice  and resolve the space you land on (such as drawing a card,  buying the property, paying rent, etc.). Then, one of two  things will happen depending on whether or not there is still  property in the bank.  YES, there is property in the bank -Advance to the NEXT  property that the bank still holds and buy it if you wish. If you  don\\'t want to buy this property, move to the space anyway  and put the property up for auction.  NO, there are no more properties in the bank -  Advance to the  NOCT property on which you will owe another player money.  A few minor details:  Only the white dice are used when determining if you rolled doubles.  Do not look at the Speed Die.  If you roll a three-of-a-kind (all of the dice show the same number),  you can move anywhere you want on the board!  If you get sent to jail during your move (either by landing on the \"Go  to Jail\" space or by rolling doubles three times in a row) then your turn  is over and you do not get to use the Speed Die for that turn.  Use the white dice ONLY when rolling to get out of jail.  L  Use the sum of all three dice when determining how much to pay on  a utility. Note: The Bus and Mr. Monopoly are valued at 0.  CLASSIC MONOPOW RULES  OBJECT: The object of the game IS to become the  wealthiest player through buying, renting and selling  property.  PREPARATION: Place the board on a table and put  the Chance and Community Chest cards facedown on  their allotted spaces on the board. Each player chooses one token to  represent himther while traveling around the board.'},\n",
       " {'page_number': 2,\n",
       "  'char_count': 2202,\n",
       "  'page_word_count': 444,\n",
       "  'page_sentence_count': 21,\n",
       "  'page_token_count': 550.5,\n",
       "  'text': 'Each player is given $1,500 divided as follows: P each of $500s,  $ 1 0 0 ~   and $50~; 6 $40~; 5 each of $105, $ 5 ~   and $Is.  All remaining money and other equipment go to the Bank. Stack the ..  Bank\\'s money on edge in the compartments in the plastic Banker\\'s tray.  BANKER. Select as Banker a player who will also  make a good Auctioneer A Banker who plays  ~n the game must keep hislher personal funds  separate from those of the Bank. When more than  f~ve persons play, the Banker may elect to act only  as Banker and Auctioneer.  THE BANK: Besides the Bank\\'s money, the Bank  holds the Title Deed cards and houses and hotels prior to purchase  and use by the players. The Bank pays salaries and bonuses. It sells  and auctions properties and hands out the~r proper Title Deed cards;  it sells houses and hotels to the players and loans money when  required on mortgages.  The Bank collects all taxes, fines, loans and interest, and the price of  all properties which it sells and auctions.  The Bank nwer \"goes broke.\" If the Bank runs out of money, the Banker  may issue as much more as needed by writing on any ordinary paper.  THE PLAY: Starting with the Banker, each player in turn throws the dice.  The player with the highest total starts the play: Place your  token on the corner marked \"GO,\" throw the dice and move  your token in the direction of the arrow the number of  spaces indicated by the dice. After you have completed  your play, the turn passes to the left. The tokens remain  on the spaces qccupied and proceed from that point on  the player\\'s next turn. Two or more tokens may rest on the  same space at the same time.  According to the space your token reaches, you may be entitled to  buy real estate or other properties -  or obliged to pay rent, pay taxes,  draw a Chance or Community Chest card, \"Go to Jail,\" etc.  If you throw doubles, you move your token as usual, the sum of the  two dice, and are subject to any privileges or penalties pertaining to  the space on which you land. Retaining the dice, throw again and move  your token as before. If you throw doubles three times in succession,  move your token immediately to the space marked \"In Jail\" (see JAIL).'},\n",
       " {'page_number': 3,\n",
       "  'char_count': 2089,\n",
       "  'page_word_count': 408,\n",
       "  'page_sentence_count': 17,\n",
       "  'page_token_count': 522.25,\n",
       "  'text': '\"GO\": Each time a player\\'s token lands on or passes over  GO, whether by throwing the dice or drawing a card,  the Banker pays himther a $200 sala,ry.  The $200 is paid only once each time kound  the board. However, if a player passing GO on  the throw of the dice lands 2 spaces beyond it  on Community Chest, or 7 spaces beyond  it on Chance, and draws the \"Advance to GO\" card, helshe collects  $200 for passing GO the first time and another $200 for reaching it the  second time by instructions on the card.  BUYING PROPERTY: Whenever you land on an unowned property you  may buy that property from the Bank at its printed price. You receive the  Title Deed card showing ownership; place it faceup in front of you.  If you do not wish to buy the property, the Banker sells it at auction  to the highest bidder. The buyer pays the Bank the amount of the bid  in cash and receives the Title Deed card for that property. Any player,  including the one who declined the option to buy it at the printed  price, may bid. Bidding may start at any price.  PAMNG  When you land on property owned by another player,  the owner collects rent from you in accordance with the list printed on  its Title Deed card.  If the property is mortgaged, no rent can be collected. When a  property is mortgaged, its Title Deed card is placed facedown in front  of the owner.  L  It is an advantage to hold all the Title Deed cards in a color-  group (e.g., Boardwalk and Park Place; or Connecticut, Vermont and  Oriental Avenues) because the owner may then charge double rent  for unimproved properties in that color-group. This rule applies to  unmortgaged properties even if another property in that color-group is  mortgaged.  It is even more advantageous to have houses or hotels on properties  because rents are much higher than for unimproved properties.  The owner may not collect the rent if he/she fails to ask for it before  the second player following throws the dice.  \"CHANCE\" AND \"COMMUNITY CHEST\": When you land on either of  these spaces, take the top card from the deck indicated, follow the'},\n",
       " {'page_number': 4,\n",
       "  'char_count': 2047,\n",
       "  'page_word_count': 429,\n",
       "  'page_sentence_count': 16,\n",
       "  'page_token_count': 511.75,\n",
       "  'text': 'instructions and return the card facedown to the bottom of the deck.  The \"Get Out of Jail Free\" card is held until used and then returned to  the bottom of the deck. If the player who draws it does not wish to use  it, helshe may sell it, at any time, to another player at a price agreeable  to both.  \"INCOME TAX\": If you land here you have two options: You may  estimate your tax at $900 and pay the Bank, or you may pay 10% of  your total worth to the Bank. Your total worth is all your cash on hand,  printed prices of mortgaged and unmortgaged properties and cost  price of all buildings you own.  You must decide which option you will take before you add up  your total worth.  \"JAIL\": You land in Jail when. ..(I) your token lands on the space  marked \"Go to Jail\"; (2) you draw a card marked \"Go to JailN; or  (3) you throw doubles three times in succession.  When you are sent to Jail you cannot  collect your $200 salary in that move  since, regardless of where your token  is on the board, you must move it  directly into Jail. Your turn ends when  you are sent to Jail.  If you are not \"sent\" to Jail but in the ordinary course of play land on  that space, you are \"Just Visiting,\" you incur no penalty, and you move  ahead in the usual manner on your next turn.  You get out of Jail by.. .(I) throwing doubles on any of your next  three turns; if you succeed in doing this you immediately move forward  the number of spaces shown by your doubles throw; even though you  had thrown doubles, you do not take another turn; (2) using the \"Get  Out of Jail Free\" card if you have it; (3) purchasing the \"Get Out of Jail  Free\" card from another player and playing it; (4) paying a fine of $50  before you roll the dice on either of your next two turns.  If you do not throw doubles by your third turn, you must pay the $50  fine. You then get out of Jail and immediately move forward the number  of spaces shown by your throw.  Even though you are in Jail, you may buy and sell property, buy and  sell houses and hotels and collect rents.'},\n",
       " {'page_number': 5,\n",
       "  'char_count': 2096,\n",
       "  'page_word_count': 423,\n",
       "  'page_sentence_count': 17,\n",
       "  'page_token_count': 524.0,\n",
       "  'text': '\"FREE PARKING\": A player landing on this place does not  receive any money, property or reward of any kind. This is just a \"free\"  resting place.  HOUSES: When you own all the propert~es in a color-group  you may buy houses from the Bank and erect them on those properties.  If you buy one house, you may put it on any  one of those properties. The next house you  buy must be erected on one of the unimproved  properties of this or any other complete color-  group you may own.  The price you must pay the Bank for each  house is shown on your ltle Deed card for the  property on which you erect the house.  The owner still collects double rent from an opponent who lands on  the unimproved properties of hisher complete color-group.  Following the above rules, you may buy and erect at any time as  many houses as your judgement and financial standing will allow. But  you must build evenly, i.e., you cannot erect more than one house on  any one property of any color-group until you have built one house on  wery property of that group. You may then begin on the second row  of houses, and so on, up to a limit of four houses to a property. For  example, you cannot build three houses on one property if you have  only one house on another property of that group.  As you build evenly, you must also break down evenly ifyou sell  houses back to the Bank (see SELLING PROPERTY).  HOTELS: When a player has four houses on each property of a  complete color-group, hdshe may buy a hotel from the Bank and erect  it on any property of the color-group. Hdshe returns the four houses  from that property to the Bank and pays the price for the hotel as shown  on the Ttle Deed card. Only one hotel may be erected on any one  property.  BUILDING SHORTAGES: When the Bank has no houses to sell, players  wishing to build must wait for some player to return or sell histher  houses to the Bank before building. If there are a limited number of  houses and hotels available and two or more players wish to buy more  than the Bank has, the houses or hotels must be sold at auction to the  highest bidder.'},\n",
       " {'page_number': 6,\n",
       "  'char_count': 2057,\n",
       "  'page_word_count': 406,\n",
       "  'page_sentence_count': 16,\n",
       "  'page_token_count': 514.25,\n",
       "  'text': 'SELLING PROPERN: Unimproved properties, railroads and util~ties  (but not buildings) may be sold to any player as a private transaction  for any amount the owner can get; however, no property can be sold to -  another player if buildings are standing on any properties of that color-  group. Any buildings so located must be sold back to the Bank before  the owner can sell any property of that color-group.  Houses and hotels may be sold back to the Bank at any time for one-  half the price paid for them.  All houses on one color-group must be sold one by one, evenly, in  reverse of the manner in which they were erected.  All hotels on one color-group may be sold at once, or they may be  sold one house at a time (one hotel equals five houses), evenly, in  reverse of the manner in which they were erected.  MORTGAGES: Unimproved properties can be mortgaged through the  Bank at any time. Before an improved property can be mortgaged, all  the buildings on all the properties of its color-group must be sold back  to the Bank at half price. The mortgage value is printed on each Title  Deed card.  No rent can be collected on mortgaged properties or utilities,  but rent can be collected on unmortgaged properties in the  same group.  In order to lift the mortgage, the owner must pay the Bank the  amount of the mortgage plus 10% interest. When all the propert~es of  a color-group are no longer mortgaged, the owner may begin to buy  back houses at full price.  The player who mortgages property retains possession of it and  no other player may secure it by lifting the mortgage from the Bank.  However, the owner may sell this mortgaged property to another player  at any agreed price. If you are the new owner, you may lift the mortgage  at once if you wish by paying off the mortgage plus  10% interest to the Bank. If the mortgage is not lifted  at once, you must pay the Bank 10% interest when  you buy the property and if you lift the  mortgage later you must pay the Bank  an additional 10% interest as well  as the amount of the mortgage. n'},\n",
       " {'page_number': 7,\n",
       "  'char_count': 2208,\n",
       "  'page_word_count': 421,\n",
       "  'page_sentence_count': 26,\n",
       "  'page_token_count': 552.0,\n",
       "  'text': 'BANKRUPTCY.. You are declared bankrupt if you owe more than you  can pay either to another player or to the Bank. If your  ,  debt is to another player, you must tum over to that  player all that you have of value and retire from the  game. In making this settlement, if you own houses or  hotels, you must retum these to the Bank in exchange  for money to the extent of one-half the amount paid  for them; this cash is given to the creditor. If you have  mortgaged property you also turn this property over  to your creditor but the new owner must at once pay .  the Bank the amount of interest on the loan, which is 10% of the value of  the property. The new owner who does this may then, at hislher option,  pay the principal or hold the property until some later turn, then lift the  mortgage. If helshe holds property in this way until a later turn, helshe  must pay the interest again upon lifting the mortgage.  Should you owe the Bank, instead of another player, more than you  can pay (because of taxes or penalties) even by selling off buildings  and mortgaging property, you must turn over all assets to the Bank. In  this case, the Bank immediately sells by auction all property so taken,  except buildings. A bankrupt player must immediately retire from the  game. The last player left in the game wins.  MISCEUANEOUS: Money can be loaned to a player only by the Bank  and then only by mortgaging property. No player may borrow from or  lend money to another player.  L  We will be happy to hear your questions or comments about this game. Write to: Hasbro  Games, Consumer Affairs Dept., P.O. Box 200, Pawtucket, RI 02862. Tel: 888-836-7025  (toll free). Canadian consumers please write to: Hasbro Canada Corporation, 2350 de la  Province, Longueuil, QC Canada, J4G 1G2.  The HASBRO, PARKER BROTHERS, and MONOPOLY names and logos, the distinctive design of  the gameboard, the four comer squares, the MR. MONOPOLY name and character, and each of the  distinctive elements of the board and rules are trademarks of Hasbro for its property trading game  and game equipment. 02004,2007 Hasbro, Pawtucket, RI 02862.  All Rights Reserved. TM & @3 denote U.S. Trademarks.  00009-1  PROOF OF PURCHASE I'}]"
      ]
     },
     "execution_count": 44,
     "metadata": {},
     "output_type": "execute_result"
    }
   ],
   "source": [
    "pages_and_texts = open_read_pdfs(pdf_path=sample_pdf_path)\n",
    "pages_and_texts"
   ]
  },
  {
   "cell_type": "code",
   "execution_count": 45,
   "metadata": {},
   "outputs": [
    {
     "data": {
      "text/plain": [
       "[{'page_number': 3,\n",
       "  'char_count': 2089,\n",
       "  'page_word_count': 408,\n",
       "  'page_sentence_count': 17,\n",
       "  'page_token_count': 522.25,\n",
       "  'text': '\"GO\": Each time a player\\'s token lands on or passes over  GO, whether by throwing the dice or drawing a card,  the Banker pays himther a $200 sala,ry.  The $200 is paid only once each time kound  the board. However, if a player passing GO on  the throw of the dice lands 2 spaces beyond it  on Community Chest, or 7 spaces beyond  it on Chance, and draws the \"Advance to GO\" card, helshe collects  $200 for passing GO the first time and another $200 for reaching it the  second time by instructions on the card.  BUYING PROPERTY: Whenever you land on an unowned property you  may buy that property from the Bank at its printed price. You receive the  Title Deed card showing ownership; place it faceup in front of you.  If you do not wish to buy the property, the Banker sells it at auction  to the highest bidder. The buyer pays the Bank the amount of the bid  in cash and receives the Title Deed card for that property. Any player,  including the one who declined the option to buy it at the printed  price, may bid. Bidding may start at any price.  PAMNG  When you land on property owned by another player,  the owner collects rent from you in accordance with the list printed on  its Title Deed card.  If the property is mortgaged, no rent can be collected. When a  property is mortgaged, its Title Deed card is placed facedown in front  of the owner.  L  It is an advantage to hold all the Title Deed cards in a color-  group (e.g., Boardwalk and Park Place; or Connecticut, Vermont and  Oriental Avenues) because the owner may then charge double rent  for unimproved properties in that color-group. This rule applies to  unmortgaged properties even if another property in that color-group is  mortgaged.  It is even more advantageous to have houses or hotels on properties  because rents are much higher than for unimproved properties.  The owner may not collect the rent if he/she fails to ask for it before  the second player following throws the dice.  \"CHANCE\" AND \"COMMUNITY CHEST\": When you land on either of  these spaces, take the top card from the deck indicated, follow the'},\n",
       " {'page_number': 1,\n",
       "  'char_count': 1847,\n",
       "  'page_word_count': 389,\n",
       "  'page_sentence_count': 19,\n",
       "  'page_token_count': 461.75,\n",
       "  'text': 'Bus: This lets you \"get off the bus early.\" Look at the two white  dice. You can move the value of one die, the other die, or the  sum of both dice. So if you rolled a 1 and a 5, you can move  1 space, 5 spaces, or 6 spaces: \\\\t\\'s your choice.  Mr. Monopoly: First, move the sum of the two white dice  and resolve the space you land on (such as drawing a card,  buying the property, paying rent, etc.). Then, one of two  things will happen depending on whether or not there is still  property in the bank.  YES, there is property in the bank -Advance to the NEXT  property that the bank still holds and buy it if you wish. If you  don\\'t want to buy this property, move to the space anyway  and put the property up for auction.  NO, there are no more properties in the bank -  Advance to the  NOCT property on which you will owe another player money.  A few minor details:  Only the white dice are used when determining if you rolled doubles.  Do not look at the Speed Die.  If you roll a three-of-a-kind (all of the dice show the same number),  you can move anywhere you want on the board!  If you get sent to jail during your move (either by landing on the \"Go  to Jail\" space or by rolling doubles three times in a row) then your turn  is over and you do not get to use the Speed Die for that turn.  Use the white dice ONLY when rolling to get out of jail.  L  Use the sum of all three dice when determining how much to pay on  a utility. Note: The Bus and Mr. Monopoly are valued at 0.  CLASSIC MONOPOW RULES  OBJECT: The object of the game IS to become the  wealthiest player through buying, renting and selling  property.  PREPARATION: Place the board on a table and put  the Chance and Community Chest cards facedown on  their allotted spaces on the board. Each player chooses one token to  represent himther while traveling around the board.'}]"
      ]
     },
     "execution_count": 45,
     "metadata": {},
     "output_type": "execute_result"
    }
   ],
   "source": [
    "import random\n",
    "\n",
    "random.sample(pages_and_texts, k=2)"
   ]
  },
  {
   "cell_type": "code",
   "execution_count": 46,
   "metadata": {},
   "outputs": [
    {
     "data": {
      "text/html": [
       "<div>\n",
       "<style scoped>\n",
       "    .dataframe tbody tr th:only-of-type {\n",
       "        vertical-align: middle;\n",
       "    }\n",
       "\n",
       "    .dataframe tbody tr th {\n",
       "        vertical-align: top;\n",
       "    }\n",
       "\n",
       "    .dataframe thead th {\n",
       "        text-align: right;\n",
       "    }\n",
       "</style>\n",
       "<table border=\"1\" class=\"dataframe\">\n",
       "  <thead>\n",
       "    <tr style=\"text-align: right;\">\n",
       "      <th></th>\n",
       "      <th>page_number</th>\n",
       "      <th>char_count</th>\n",
       "      <th>page_word_count</th>\n",
       "      <th>page_sentence_count</th>\n",
       "      <th>page_token_count</th>\n",
       "      <th>text</th>\n",
       "    </tr>\n",
       "  </thead>\n",
       "  <tbody>\n",
       "    <tr>\n",
       "      <th>0</th>\n",
       "      <td>0</td>\n",
       "      <td>1394</td>\n",
       "      <td>291</td>\n",
       "      <td>18</td>\n",
       "      <td>348.50</td>\n",
       "      <td>MONOPOLY  Property Trading Game from Parker Br...</td>\n",
       "    </tr>\n",
       "    <tr>\n",
       "      <th>1</th>\n",
       "      <td>1</td>\n",
       "      <td>1847</td>\n",
       "      <td>389</td>\n",
       "      <td>19</td>\n",
       "      <td>461.75</td>\n",
       "      <td>Bus: This lets you \"get off the bus early.\" Lo...</td>\n",
       "    </tr>\n",
       "    <tr>\n",
       "      <th>2</th>\n",
       "      <td>2</td>\n",
       "      <td>2202</td>\n",
       "      <td>444</td>\n",
       "      <td>21</td>\n",
       "      <td>550.50</td>\n",
       "      <td>Each player is given $1,500 divided as follows...</td>\n",
       "    </tr>\n",
       "    <tr>\n",
       "      <th>3</th>\n",
       "      <td>3</td>\n",
       "      <td>2089</td>\n",
       "      <td>408</td>\n",
       "      <td>17</td>\n",
       "      <td>522.25</td>\n",
       "      <td>\"GO\": Each time a player's token lands on or p...</td>\n",
       "    </tr>\n",
       "    <tr>\n",
       "      <th>4</th>\n",
       "      <td>4</td>\n",
       "      <td>2047</td>\n",
       "      <td>429</td>\n",
       "      <td>16</td>\n",
       "      <td>511.75</td>\n",
       "      <td>instructions and return the card facedown to t...</td>\n",
       "    </tr>\n",
       "  </tbody>\n",
       "</table>\n",
       "</div>"
      ],
      "text/plain": [
       "   page_number  char_count  page_word_count  page_sentence_count  \\\n",
       "0            0        1394              291                   18   \n",
       "1            1        1847              389                   19   \n",
       "2            2        2202              444                   21   \n",
       "3            3        2089              408                   17   \n",
       "4            4        2047              429                   16   \n",
       "\n",
       "   page_token_count                                               text  \n",
       "0            348.50  MONOPOLY  Property Trading Game from Parker Br...  \n",
       "1            461.75  Bus: This lets you \"get off the bus early.\" Lo...  \n",
       "2            550.50  Each player is given $1,500 divided as follows...  \n",
       "3            522.25  \"GO\": Each time a player's token lands on or p...  \n",
       "4            511.75  instructions and return the card facedown to t...  "
      ]
     },
     "execution_count": 46,
     "metadata": {},
     "output_type": "execute_result"
    }
   ],
   "source": [
    "import pandas as pd \n",
    "\n",
    "df = pd.DataFrame(pages_and_texts)\n",
    "df.head()"
   ]
  },
  {
   "cell_type": "code",
   "execution_count": 47,
   "metadata": {},
   "outputs": [
    {
     "data": {
      "text/html": [
       "<div>\n",
       "<style scoped>\n",
       "    .dataframe tbody tr th:only-of-type {\n",
       "        vertical-align: middle;\n",
       "    }\n",
       "\n",
       "    .dataframe tbody tr th {\n",
       "        vertical-align: top;\n",
       "    }\n",
       "\n",
       "    .dataframe thead th {\n",
       "        text-align: right;\n",
       "    }\n",
       "</style>\n",
       "<table border=\"1\" class=\"dataframe\">\n",
       "  <thead>\n",
       "    <tr style=\"text-align: right;\">\n",
       "      <th></th>\n",
       "      <th>page_number</th>\n",
       "      <th>char_count</th>\n",
       "      <th>page_word_count</th>\n",
       "      <th>page_sentence_count</th>\n",
       "      <th>page_token_count</th>\n",
       "    </tr>\n",
       "  </thead>\n",
       "  <tbody>\n",
       "    <tr>\n",
       "      <th>count</th>\n",
       "      <td>8.00000</td>\n",
       "      <td>8.000000</td>\n",
       "      <td>8.0000</td>\n",
       "      <td>8.000000</td>\n",
       "      <td>8.000000</td>\n",
       "    </tr>\n",
       "    <tr>\n",
       "      <th>mean</th>\n",
       "      <td>3.50000</td>\n",
       "      <td>1992.500000</td>\n",
       "      <td>401.3750</td>\n",
       "      <td>18.750000</td>\n",
       "      <td>498.125000</td>\n",
       "    </tr>\n",
       "    <tr>\n",
       "      <th>std</th>\n",
       "      <td>2.44949</td>\n",
       "      <td>266.420184</td>\n",
       "      <td>47.5603</td>\n",
       "      <td>3.370036</td>\n",
       "      <td>66.605046</td>\n",
       "    </tr>\n",
       "    <tr>\n",
       "      <th>min</th>\n",
       "      <td>0.00000</td>\n",
       "      <td>1394.000000</td>\n",
       "      <td>291.0000</td>\n",
       "      <td>16.000000</td>\n",
       "      <td>348.500000</td>\n",
       "    </tr>\n",
       "    <tr>\n",
       "      <th>25%</th>\n",
       "      <td>1.75000</td>\n",
       "      <td>1997.000000</td>\n",
       "      <td>401.7500</td>\n",
       "      <td>16.750000</td>\n",
       "      <td>499.250000</td>\n",
       "    </tr>\n",
       "    <tr>\n",
       "      <th>50%</th>\n",
       "      <td>3.50000</td>\n",
       "      <td>2073.000000</td>\n",
       "      <td>414.5000</td>\n",
       "      <td>17.500000</td>\n",
       "      <td>518.250000</td>\n",
       "    </tr>\n",
       "    <tr>\n",
       "      <th>75%</th>\n",
       "      <td>5.25000</td>\n",
       "      <td>2122.500000</td>\n",
       "      <td>424.5000</td>\n",
       "      <td>19.500000</td>\n",
       "      <td>530.625000</td>\n",
       "    </tr>\n",
       "    <tr>\n",
       "      <th>max</th>\n",
       "      <td>7.00000</td>\n",
       "      <td>2208.000000</td>\n",
       "      <td>444.0000</td>\n",
       "      <td>26.000000</td>\n",
       "      <td>552.000000</td>\n",
       "    </tr>\n",
       "  </tbody>\n",
       "</table>\n",
       "</div>"
      ],
      "text/plain": [
       "       page_number   char_count  page_word_count  page_sentence_count  \\\n",
       "count      8.00000     8.000000           8.0000             8.000000   \n",
       "mean       3.50000  1992.500000         401.3750            18.750000   \n",
       "std        2.44949   266.420184          47.5603             3.370036   \n",
       "min        0.00000  1394.000000         291.0000            16.000000   \n",
       "25%        1.75000  1997.000000         401.7500            16.750000   \n",
       "50%        3.50000  2073.000000         414.5000            17.500000   \n",
       "75%        5.25000  2122.500000         424.5000            19.500000   \n",
       "max        7.00000  2208.000000         444.0000            26.000000   \n",
       "\n",
       "       page_token_count  \n",
       "count          8.000000  \n",
       "mean         498.125000  \n",
       "std           66.605046  \n",
       "min          348.500000  \n",
       "25%          499.250000  \n",
       "50%          518.250000  \n",
       "75%          530.625000  \n",
       "max          552.000000  "
      ]
     },
     "execution_count": 47,
     "metadata": {},
     "output_type": "execute_result"
    }
   ],
   "source": [
    "df.describe()"
   ]
  },
  {
   "cell_type": "code",
   "execution_count": 48,
   "metadata": {},
   "outputs": [
    {
     "data": {
      "text/plain": [
       "[This is a sentence., I love pizza., I am very lucky]"
      ]
     },
     "execution_count": 48,
     "metadata": {},
     "output_type": "execute_result"
    }
   ],
   "source": [
    "## Split the pages into sentences \n",
    "\n",
    "from spacy.lang.en import English\n",
    "\n",
    "nlp = English()\n",
    "\n",
    "nlp.add_pipe(\"sentencizer\")\n",
    "\n",
    "doc = nlp(\"This is a sentence. I love pizza. I am very lucky\")\n",
    "\n",
    "\n",
    "list(doc.sents)"
   ]
  },
  {
   "cell_type": "code",
   "execution_count": 49,
   "metadata": {},
   "outputs": [
    {
     "data": {
      "application/vnd.jupyter.widget-view+json": {
       "model_id": "6878272742cc4ca4a135b08dd2aacd8a",
       "version_major": 2,
       "version_minor": 0
      },
      "text/plain": [
       "  0%|          | 0/8 [00:00<?, ?it/s]"
      ]
     },
     "metadata": {},
     "output_type": "display_data"
    }
   ],
   "source": [
    "for item in tqdm(pages_and_texts):\n",
    "    item[\"sentences\"] = list(nlp(item[\"text\"]).sents)\n",
    "\n",
    "    item[\"sentences\"] = [str(sentences) for sentences in item[\"sentences\"]]\n",
    "\n",
    "    item[\"page_sentence_count_spacy\"] = len(item[\"sentences\"])"
   ]
  },
  {
   "cell_type": "code",
   "execution_count": 50,
   "metadata": {},
   "outputs": [
    {
     "data": {
      "text/plain": [
       "[{'page_number': 7,\n",
       "  'char_count': 2208,\n",
       "  'page_word_count': 421,\n",
       "  'page_sentence_count': 26,\n",
       "  'page_token_count': 552.0,\n",
       "  'text': 'BANKRUPTCY.. You are declared bankrupt if you owe more than you  can pay either to another player or to the Bank. If your  ,  debt is to another player, you must tum over to that  player all that you have of value and retire from the  game. In making this settlement, if you own houses or  hotels, you must retum these to the Bank in exchange  for money to the extent of one-half the amount paid  for them; this cash is given to the creditor. If you have  mortgaged property you also turn this property over  to your creditor but the new owner must at once pay .  the Bank the amount of interest on the loan, which is 10% of the value of  the property. The new owner who does this may then, at hislher option,  pay the principal or hold the property until some later turn, then lift the  mortgage. If helshe holds property in this way until a later turn, helshe  must pay the interest again upon lifting the mortgage.  Should you owe the Bank, instead of another player, more than you  can pay (because of taxes or penalties) even by selling off buildings  and mortgaging property, you must turn over all assets to the Bank. In  this case, the Bank immediately sells by auction all property so taken,  except buildings. A bankrupt player must immediately retire from the  game. The last player left in the game wins.  MISCEUANEOUS: Money can be loaned to a player only by the Bank  and then only by mortgaging property. No player may borrow from or  lend money to another player.  L  We will be happy to hear your questions or comments about this game. Write to: Hasbro  Games, Consumer Affairs Dept., P.O. Box 200, Pawtucket, RI 02862. Tel: 888-836-7025  (toll free). Canadian consumers please write to: Hasbro Canada Corporation, 2350 de la  Province, Longueuil, QC Canada, J4G 1G2.  The HASBRO, PARKER BROTHERS, and MONOPOLY names and logos, the distinctive design of  the gameboard, the four comer squares, the MR. MONOPOLY name and character, and each of the  distinctive elements of the board and rules are trademarks of Hasbro for its property trading game  and game equipment. 02004,2007 Hasbro, Pawtucket, RI 02862.  All Rights Reserved. TM & @3 denote U.S. Trademarks.  00009-1  PROOF OF PURCHASE I',\n",
       "  'sentences': ['BANKRUPTCY.. You are declared bankrupt if you owe more than you  can pay either to another player or to the Bank.',\n",
       "   'If your  ,  debt is to another player, you must tum over to that  player all that you have of value and retire from the  game.',\n",
       "   'In making this settlement, if you own houses or  hotels, you must retum these to the Bank in exchange  for money to the extent of one-half the amount paid  for them; this cash is given to the creditor.',\n",
       "   'If you have  mortgaged property you also turn this property over  to your creditor but the new owner must at once pay .',\n",
       "   ' the Bank the amount of interest on the loan, which is 10% of the value of  the property.',\n",
       "   'The new owner who does this may then, at hislher option,  pay the principal or hold the property until some later turn, then lift the  mortgage.',\n",
       "   'If helshe holds property in this way until a later turn, helshe  must pay the interest again upon lifting the mortgage.',\n",
       "   ' Should you owe the Bank, instead of another player, more than you  can pay (because of taxes or penalties) even by selling off buildings  and mortgaging property, you must turn over all assets to the Bank.',\n",
       "   'In  this case, the Bank immediately sells by auction all property so taken,  except buildings.',\n",
       "   'A bankrupt player must immediately retire from the  game.',\n",
       "   'The last player left in the game wins.',\n",
       "   ' MISCEUANEOUS: Money can be loaned to a player only by the Bank  and then only by mortgaging property.',\n",
       "   'No player may borrow from or  lend money to another player.',\n",
       "   ' L  We will be happy to hear your questions or comments about this game.',\n",
       "   'Write to: Hasbro  Games, Consumer Affairs Dept.,',\n",
       "   'P.O. Box 200, Pawtucket, RI 02862.',\n",
       "   'Tel: 888-836-7025  (toll free).',\n",
       "   'Canadian consumers please write to: Hasbro Canada Corporation, 2350 de la  Province, Longueuil, QC Canada, J4G 1G2.',\n",
       "   ' The HASBRO, PARKER BROTHERS, and MONOPOLY names and logos, the distinctive design of  the gameboard, the four comer squares, the MR.',\n",
       "   'MONOPOLY name and character, and each of the  distinctive elements of the board and rules are trademarks of Hasbro for its property trading game  and game equipment.',\n",
       "   '02004,2007 Hasbro, Pawtucket, RI 02862.',\n",
       "   ' All Rights Reserved.',\n",
       "   'TM & @3 denote U.S. Trademarks.',\n",
       "   ' 00009-1  PROOF OF PURCHASE I'],\n",
       "  'page_sentence_count_spacy': 24},\n",
       " {'page_number': 1,\n",
       "  'char_count': 1847,\n",
       "  'page_word_count': 389,\n",
       "  'page_sentence_count': 19,\n",
       "  'page_token_count': 461.75,\n",
       "  'text': 'Bus: This lets you \"get off the bus early.\" Look at the two white  dice. You can move the value of one die, the other die, or the  sum of both dice. So if you rolled a 1 and a 5, you can move  1 space, 5 spaces, or 6 spaces: \\\\t\\'s your choice.  Mr. Monopoly: First, move the sum of the two white dice  and resolve the space you land on (such as drawing a card,  buying the property, paying rent, etc.). Then, one of two  things will happen depending on whether or not there is still  property in the bank.  YES, there is property in the bank -Advance to the NEXT  property that the bank still holds and buy it if you wish. If you  don\\'t want to buy this property, move to the space anyway  and put the property up for auction.  NO, there are no more properties in the bank -  Advance to the  NOCT property on which you will owe another player money.  A few minor details:  Only the white dice are used when determining if you rolled doubles.  Do not look at the Speed Die.  If you roll a three-of-a-kind (all of the dice show the same number),  you can move anywhere you want on the board!  If you get sent to jail during your move (either by landing on the \"Go  to Jail\" space or by rolling doubles three times in a row) then your turn  is over and you do not get to use the Speed Die for that turn.  Use the white dice ONLY when rolling to get out of jail.  L  Use the sum of all three dice when determining how much to pay on  a utility. Note: The Bus and Mr. Monopoly are valued at 0.  CLASSIC MONOPOW RULES  OBJECT: The object of the game IS to become the  wealthiest player through buying, renting and selling  property.  PREPARATION: Place the board on a table and put  the Chance and Community Chest cards facedown on  their allotted spaces on the board. Each player chooses one token to  represent himther while traveling around the board.',\n",
       "  'sentences': ['Bus: This lets you \"get off the bus early.\"',\n",
       "   'Look at the two white  dice.',\n",
       "   'You can move the value of one die, the other die, or the  sum of both dice.',\n",
       "   \"So if you rolled a 1 and a 5, you can move  1 space, 5 spaces, or 6 spaces: \\\\t's your choice.\",\n",
       "   ' Mr. Monopoly: First, move the sum of the two white dice  and resolve the space you land on (such as drawing a card,  buying the property, paying rent, etc.).',\n",
       "   'Then, one of two  things will happen depending on whether or not there is still  property in the bank.',\n",
       "   ' YES, there is property in the bank -Advance to the NEXT  property that the bank still holds and buy it if you wish.',\n",
       "   \"If you  don't want to buy this property, move to the space anyway  and put the property up for auction.\",\n",
       "   ' NO, there are no more properties in the bank -  Advance to the  NOCT property on which you will owe another player money.',\n",
       "   ' A few minor details:  Only the white dice are used when determining if you rolled doubles.',\n",
       "   ' Do not look at the Speed Die.',\n",
       "   ' If you roll a three-of-a-kind (all of the dice show the same number),  you can move anywhere you want on the board!',\n",
       "   ' If you get sent to jail during your move (either by landing on the \"Go  to Jail\" space or by rolling doubles three times in a row) then your turn  is over and you do not get to use the Speed Die for that turn.',\n",
       "   ' Use the white dice ONLY when rolling to get out of jail.',\n",
       "   ' L  Use the sum of all three dice when determining how much to pay on  a utility.',\n",
       "   'Note: The Bus and Mr. Monopoly are valued at 0.',\n",
       "   ' CLASSIC MONOPOW RULES  OBJECT: The object of the game IS to become the  wealthiest player through buying, renting and selling  property.',\n",
       "   ' PREPARATION: Place the board on a table and put  the Chance and Community Chest cards facedown on  their allotted spaces on the board.',\n",
       "   'Each player chooses one token to  represent himther while traveling around the board.'],\n",
       "  'page_sentence_count_spacy': 19}]"
      ]
     },
     "execution_count": 50,
     "metadata": {},
     "output_type": "execute_result"
    }
   ],
   "source": [
    "random.sample(pages_and_texts, k=2)"
   ]
  },
  {
   "cell_type": "code",
   "execution_count": 51,
   "metadata": {},
   "outputs": [
    {
     "data": {
      "text/html": [
       "<div>\n",
       "<style scoped>\n",
       "    .dataframe tbody tr th:only-of-type {\n",
       "        vertical-align: middle;\n",
       "    }\n",
       "\n",
       "    .dataframe tbody tr th {\n",
       "        vertical-align: top;\n",
       "    }\n",
       "\n",
       "    .dataframe thead th {\n",
       "        text-align: right;\n",
       "    }\n",
       "</style>\n",
       "<table border=\"1\" class=\"dataframe\">\n",
       "  <thead>\n",
       "    <tr style=\"text-align: right;\">\n",
       "      <th></th>\n",
       "      <th>page_number</th>\n",
       "      <th>char_count</th>\n",
       "      <th>page_word_count</th>\n",
       "      <th>page_sentence_count</th>\n",
       "      <th>page_token_count</th>\n",
       "      <th>page_sentence_count_spacy</th>\n",
       "    </tr>\n",
       "  </thead>\n",
       "  <tbody>\n",
       "    <tr>\n",
       "      <th>count</th>\n",
       "      <td>8.00</td>\n",
       "      <td>8.00</td>\n",
       "      <td>8.00</td>\n",
       "      <td>8.00</td>\n",
       "      <td>8.00</td>\n",
       "      <td>8.00</td>\n",
       "    </tr>\n",
       "    <tr>\n",
       "      <th>mean</th>\n",
       "      <td>3.50</td>\n",
       "      <td>1992.50</td>\n",
       "      <td>401.38</td>\n",
       "      <td>18.75</td>\n",
       "      <td>498.12</td>\n",
       "      <td>18.38</td>\n",
       "    </tr>\n",
       "    <tr>\n",
       "      <th>std</th>\n",
       "      <td>2.45</td>\n",
       "      <td>266.42</td>\n",
       "      <td>47.56</td>\n",
       "      <td>3.37</td>\n",
       "      <td>66.61</td>\n",
       "      <td>2.92</td>\n",
       "    </tr>\n",
       "    <tr>\n",
       "      <th>min</th>\n",
       "      <td>0.00</td>\n",
       "      <td>1394.00</td>\n",
       "      <td>291.00</td>\n",
       "      <td>16.00</td>\n",
       "      <td>348.50</td>\n",
       "      <td>15.00</td>\n",
       "    </tr>\n",
       "    <tr>\n",
       "      <th>25%</th>\n",
       "      <td>1.75</td>\n",
       "      <td>1997.00</td>\n",
       "      <td>401.75</td>\n",
       "      <td>16.75</td>\n",
       "      <td>499.25</td>\n",
       "      <td>16.75</td>\n",
       "    </tr>\n",
       "    <tr>\n",
       "      <th>50%</th>\n",
       "      <td>3.50</td>\n",
       "      <td>2073.00</td>\n",
       "      <td>414.50</td>\n",
       "      <td>17.50</td>\n",
       "      <td>518.25</td>\n",
       "      <td>17.50</td>\n",
       "    </tr>\n",
       "    <tr>\n",
       "      <th>75%</th>\n",
       "      <td>5.25</td>\n",
       "      <td>2122.50</td>\n",
       "      <td>424.50</td>\n",
       "      <td>19.50</td>\n",
       "      <td>530.62</td>\n",
       "      <td>19.50</td>\n",
       "    </tr>\n",
       "    <tr>\n",
       "      <th>max</th>\n",
       "      <td>7.00</td>\n",
       "      <td>2208.00</td>\n",
       "      <td>444.00</td>\n",
       "      <td>26.00</td>\n",
       "      <td>552.00</td>\n",
       "      <td>24.00</td>\n",
       "    </tr>\n",
       "  </tbody>\n",
       "</table>\n",
       "</div>"
      ],
      "text/plain": [
       "       page_number  char_count  page_word_count  page_sentence_count  \\\n",
       "count         8.00        8.00             8.00                 8.00   \n",
       "mean          3.50     1992.50           401.38                18.75   \n",
       "std           2.45      266.42            47.56                 3.37   \n",
       "min           0.00     1394.00           291.00                16.00   \n",
       "25%           1.75     1997.00           401.75                16.75   \n",
       "50%           3.50     2073.00           414.50                17.50   \n",
       "75%           5.25     2122.50           424.50                19.50   \n",
       "max           7.00     2208.00           444.00                26.00   \n",
       "\n",
       "       page_token_count  page_sentence_count_spacy  \n",
       "count              8.00                       8.00  \n",
       "mean             498.12                      18.38  \n",
       "std               66.61                       2.92  \n",
       "min              348.50                      15.00  \n",
       "25%              499.25                      16.75  \n",
       "50%              518.25                      17.50  \n",
       "75%              530.62                      19.50  \n",
       "max              552.00                      24.00  "
      ]
     },
     "execution_count": 51,
     "metadata": {},
     "output_type": "execute_result"
    }
   ],
   "source": [
    "df = pd.DataFrame(pages_and_texts)\n",
    "df.describe().round(2)"
   ]
  },
  {
   "cell_type": "code",
   "execution_count": 52,
   "metadata": {},
   "outputs": [
    {
     "data": {
      "text/plain": [
       "[[0, 1, 2, 3, 4, 5, 6, 7, 8, 9],\n",
       " [10, 11, 12, 13, 14, 15, 16, 17, 18, 19],\n",
       " [20, 21, 22, 23, 24]]"
      ]
     },
     "execution_count": 52,
     "metadata": {},
     "output_type": "execute_result"
    }
   ],
   "source": [
    "num_sentences_chunk_size = 10\n",
    "\n",
    "def split_text_to_chunks(input_list: list,\n",
    "                         slice_size: int=num_sentences_chunk_size) -> list[list[str]]:\n",
    "    return [input_list[i:i + slice_size] for i in range(0, len(input_list), slice_size)]\n",
    "\n",
    "split_text_to_chunks(list(range(25)))"
   ]
  },
  {
   "cell_type": "code",
   "execution_count": 53,
   "metadata": {},
   "outputs": [
    {
     "name": "stdout",
     "output_type": "stream",
     "text": [
      "dict_keys(['page_number', 'char_count', 'page_word_count', 'page_sentence_count', 'page_token_count', 'text', 'sentences', 'page_sentence_count_spacy'])\n",
      "dict_keys(['page_number', 'char_count', 'page_word_count', 'page_sentence_count', 'page_token_count', 'text', 'sentences', 'page_sentence_count_spacy'])\n",
      "dict_keys(['page_number', 'char_count', 'page_word_count', 'page_sentence_count', 'page_token_count', 'text', 'sentences', 'page_sentence_count_spacy'])\n",
      "dict_keys(['page_number', 'char_count', 'page_word_count', 'page_sentence_count', 'page_token_count', 'text', 'sentences', 'page_sentence_count_spacy'])\n",
      "dict_keys(['page_number', 'char_count', 'page_word_count', 'page_sentence_count', 'page_token_count', 'text', 'sentences', 'page_sentence_count_spacy'])\n",
      "dict_keys(['page_number', 'char_count', 'page_word_count', 'page_sentence_count', 'page_token_count', 'text', 'sentences', 'page_sentence_count_spacy'])\n",
      "dict_keys(['page_number', 'char_count', 'page_word_count', 'page_sentence_count', 'page_token_count', 'text', 'sentences', 'page_sentence_count_spacy'])\n",
      "dict_keys(['page_number', 'char_count', 'page_word_count', 'page_sentence_count', 'page_token_count', 'text', 'sentences', 'page_sentence_count_spacy'])\n"
     ]
    }
   ],
   "source": [
    "for item in pages_and_texts:\n",
    "    print(item.keys())"
   ]
  },
  {
   "cell_type": "code",
   "execution_count": 55,
   "metadata": {},
   "outputs": [
    {
     "data": {
      "application/vnd.jupyter.widget-view+json": {
       "model_id": "a8f732a30f6f4bea8d9c068c371c9844",
       "version_major": 2,
       "version_minor": 0
      },
      "text/plain": [
       "  0%|          | 0/8 [00:00<?, ?it/s]"
      ]
     },
     "metadata": {},
     "output_type": "display_data"
    },
    {
     "name": "stdout",
     "output_type": "stream",
     "text": [
      "{'page_number': 0, 'char_count': 1394, 'page_word_count': 291, 'page_sentence_count': 18, 'page_token_count': 348.5, 'text': 'MONOPOLY  Property Trading Game from Parker Brothers\"  AGES 8+  2 to 8 Players  Contents: Gameboard, 3 dice, tokens, 32 houses, I2 hotels, Chance  and Community Chest cards, Title Deed cards, play money and a Banker\\'s tray.  Now there\\'s a faster way to play MONOPOLY. Choose to play by  the classic rules for buying, renting and selling properties or use the  Speed Die to get into the action faster. If you\\'ve never played the classic  MONOPOLY game, refer to the Classic Rules beginning on the next page.  If you already know how to play and want to use the Speed Die, just  read the section below for the additional Speed Die rules.  SPEED DIE RULES  Learnins how to Play with the S ~ e e d   Die IS as  /  fast as playing with i\\'t.  1. When starting the game, hand out an extra $1,000 to each player  (two $5005 should work). The game moves fast and you\\'ll need  the extra cash to buy and build.  2. Do not use the Speed Die until you\\'ve landed on or passed over  GO for the first time. Once you collect that first $200 salary, you\\'ll  use the Speed Die for the rest of the game. This means that some  players will start using the die before others.  3. Once you start using the Speed Die, roll it along with the two  white dice on your turn. Then do the following depending on  what you rolled.  1, 2, or 3: Add this number to the roll of the two white  dice. You\\'ll zoom around the board.', 'sentences': ['MONOPOLY  Property Trading Game from Parker Brothers\"  AGES 8+  2 to 8 Players  Contents: Gameboard, 3 dice, tokens, 32 houses, I2 hotels, Chance  and Community Chest cards, Title Deed cards, play money and a Banker\\'s tray.', \" Now there's a faster way to play MONOPOLY.\", 'Choose to play by  the classic rules for buying, renting and selling properties or use the  Speed Die to get into the action faster.', \"If you've never played the classic  MONOPOLY game, refer to the Classic Rules beginning on the next page.\", ' If you already know how to play and want to use the Speed Die, just  read the section below for the additional Speed Die rules.', \" SPEED DIE RULES  Learnins how to Play with the S ~ e e d   Die IS as  /  fast as playing with i't.\", ' 1.', 'When starting the game, hand out an extra $1,000 to each player  (two $5005 should work).', \"The game moves fast and you'll need  the extra cash to buy and build.\", ' 2.', \"Do not use the Speed Die until you've landed on or passed over  GO for the first time.\", \"Once you collect that first $200 salary, you'll  use the Speed Die for the rest of the game.\", 'This means that some  players will start using the die before others.', ' 3.', 'Once you start using the Speed Die, roll it along with the two  white dice on your turn.', 'Then do the following depending on  what you rolled.', ' 1, 2, or 3: Add this number to the roll of the two white  dice.', \"You'll zoom around the board.\"], 'page_sentence_count_spacy': 18, 'sentence_chunks': [['MONOPOLY  Property Trading Game from Parker Brothers\"  AGES 8+  2 to 8 Players  Contents: Gameboard, 3 dice, tokens, 32 houses, I2 hotels, Chance  and Community Chest cards, Title Deed cards, play money and a Banker\\'s tray.', \" Now there's a faster way to play MONOPOLY.\", 'Choose to play by  the classic rules for buying, renting and selling properties or use the  Speed Die to get into the action faster.', \"If you've never played the classic  MONOPOLY game, refer to the Classic Rules beginning on the next page.\", ' If you already know how to play and want to use the Speed Die, just  read the section below for the additional Speed Die rules.', \" SPEED DIE RULES  Learnins how to Play with the S ~ e e d   Die IS as  /  fast as playing with i't.\", ' 1.', 'When starting the game, hand out an extra $1,000 to each player  (two $5005 should work).', \"The game moves fast and you'll need  the extra cash to buy and build.\", ' 2.'], [\"Do not use the Speed Die until you've landed on or passed over  GO for the first time.\", \"Once you collect that first $200 salary, you'll  use the Speed Die for the rest of the game.\", 'This means that some  players will start using the die before others.', ' 3.', 'Once you start using the Speed Die, roll it along with the two  white dice on your turn.', 'Then do the following depending on  what you rolled.', ' 1, 2, or 3: Add this number to the roll of the two white  dice.', \"You'll zoom around the board.\"]]}\n",
      "{'page_number': 1, 'char_count': 1847, 'page_word_count': 389, 'page_sentence_count': 19, 'page_token_count': 461.75, 'text': 'Bus: This lets you \"get off the bus early.\" Look at the two white  dice. You can move the value of one die, the other die, or the  sum of both dice. So if you rolled a 1 and a 5, you can move  1 space, 5 spaces, or 6 spaces: \\\\t\\'s your choice.  Mr. Monopoly: First, move the sum of the two white dice  and resolve the space you land on (such as drawing a card,  buying the property, paying rent, etc.). Then, one of two  things will happen depending on whether or not there is still  property in the bank.  YES, there is property in the bank -Advance to the NEXT  property that the bank still holds and buy it if you wish. If you  don\\'t want to buy this property, move to the space anyway  and put the property up for auction.  NO, there are no more properties in the bank -  Advance to the  NOCT property on which you will owe another player money.  A few minor details:  Only the white dice are used when determining if you rolled doubles.  Do not look at the Speed Die.  If you roll a three-of-a-kind (all of the dice show the same number),  you can move anywhere you want on the board!  If you get sent to jail during your move (either by landing on the \"Go  to Jail\" space or by rolling doubles three times in a row) then your turn  is over and you do not get to use the Speed Die for that turn.  Use the white dice ONLY when rolling to get out of jail.  L  Use the sum of all three dice when determining how much to pay on  a utility. Note: The Bus and Mr. Monopoly are valued at 0.  CLASSIC MONOPOW RULES  OBJECT: The object of the game IS to become the  wealthiest player through buying, renting and selling  property.  PREPARATION: Place the board on a table and put  the Chance and Community Chest cards facedown on  their allotted spaces on the board. Each player chooses one token to  represent himther while traveling around the board.', 'sentences': ['Bus: This lets you \"get off the bus early.\"', 'Look at the two white  dice.', 'You can move the value of one die, the other die, or the  sum of both dice.', \"So if you rolled a 1 and a 5, you can move  1 space, 5 spaces, or 6 spaces: \\\\t's your choice.\", ' Mr. Monopoly: First, move the sum of the two white dice  and resolve the space you land on (such as drawing a card,  buying the property, paying rent, etc.).', 'Then, one of two  things will happen depending on whether or not there is still  property in the bank.', ' YES, there is property in the bank -Advance to the NEXT  property that the bank still holds and buy it if you wish.', \"If you  don't want to buy this property, move to the space anyway  and put the property up for auction.\", ' NO, there are no more properties in the bank -  Advance to the  NOCT property on which you will owe another player money.', ' A few minor details:  Only the white dice are used when determining if you rolled doubles.', ' Do not look at the Speed Die.', ' If you roll a three-of-a-kind (all of the dice show the same number),  you can move anywhere you want on the board!', ' If you get sent to jail during your move (either by landing on the \"Go  to Jail\" space or by rolling doubles three times in a row) then your turn  is over and you do not get to use the Speed Die for that turn.', ' Use the white dice ONLY when rolling to get out of jail.', ' L  Use the sum of all three dice when determining how much to pay on  a utility.', 'Note: The Bus and Mr. Monopoly are valued at 0.', ' CLASSIC MONOPOW RULES  OBJECT: The object of the game IS to become the  wealthiest player through buying, renting and selling  property.', ' PREPARATION: Place the board on a table and put  the Chance and Community Chest cards facedown on  their allotted spaces on the board.', 'Each player chooses one token to  represent himther while traveling around the board.'], 'page_sentence_count_spacy': 19, 'sentence_chunks': [['Bus: This lets you \"get off the bus early.\"', 'Look at the two white  dice.', 'You can move the value of one die, the other die, or the  sum of both dice.', \"So if you rolled a 1 and a 5, you can move  1 space, 5 spaces, or 6 spaces: \\\\t's your choice.\", ' Mr. Monopoly: First, move the sum of the two white dice  and resolve the space you land on (such as drawing a card,  buying the property, paying rent, etc.).', 'Then, one of two  things will happen depending on whether or not there is still  property in the bank.', ' YES, there is property in the bank -Advance to the NEXT  property that the bank still holds and buy it if you wish.', \"If you  don't want to buy this property, move to the space anyway  and put the property up for auction.\", ' NO, there are no more properties in the bank -  Advance to the  NOCT property on which you will owe another player money.', ' A few minor details:  Only the white dice are used when determining if you rolled doubles.'], [' Do not look at the Speed Die.', ' If you roll a three-of-a-kind (all of the dice show the same number),  you can move anywhere you want on the board!', ' If you get sent to jail during your move (either by landing on the \"Go  to Jail\" space or by rolling doubles three times in a row) then your turn  is over and you do not get to use the Speed Die for that turn.', ' Use the white dice ONLY when rolling to get out of jail.', ' L  Use the sum of all three dice when determining how much to pay on  a utility.', 'Note: The Bus and Mr. Monopoly are valued at 0.', ' CLASSIC MONOPOW RULES  OBJECT: The object of the game IS to become the  wealthiest player through buying, renting and selling  property.', ' PREPARATION: Place the board on a table and put  the Chance and Community Chest cards facedown on  their allotted spaces on the board.', 'Each player chooses one token to  represent himther while traveling around the board.']]}\n",
      "{'page_number': 2, 'char_count': 2202, 'page_word_count': 444, 'page_sentence_count': 21, 'page_token_count': 550.5, 'text': 'Each player is given $1,500 divided as follows: P each of $500s,  $ 1 0 0 ~   and $50~; 6 $40~; 5 each of $105, $ 5 ~   and $Is.  All remaining money and other equipment go to the Bank. Stack the ..  Bank\\'s money on edge in the compartments in the plastic Banker\\'s tray.  BANKER. Select as Banker a player who will also  make a good Auctioneer A Banker who plays  ~n the game must keep hislher personal funds  separate from those of the Bank. When more than  f~ve persons play, the Banker may elect to act only  as Banker and Auctioneer.  THE BANK: Besides the Bank\\'s money, the Bank  holds the Title Deed cards and houses and hotels prior to purchase  and use by the players. The Bank pays salaries and bonuses. It sells  and auctions properties and hands out the~r proper Title Deed cards;  it sells houses and hotels to the players and loans money when  required on mortgages.  The Bank collects all taxes, fines, loans and interest, and the price of  all properties which it sells and auctions.  The Bank nwer \"goes broke.\" If the Bank runs out of money, the Banker  may issue as much more as needed by writing on any ordinary paper.  THE PLAY: Starting with the Banker, each player in turn throws the dice.  The player with the highest total starts the play: Place your  token on the corner marked \"GO,\" throw the dice and move  your token in the direction of the arrow the number of  spaces indicated by the dice. After you have completed  your play, the turn passes to the left. The tokens remain  on the spaces qccupied and proceed from that point on  the player\\'s next turn. Two or more tokens may rest on the  same space at the same time.  According to the space your token reaches, you may be entitled to  buy real estate or other properties -  or obliged to pay rent, pay taxes,  draw a Chance or Community Chest card, \"Go to Jail,\" etc.  If you throw doubles, you move your token as usual, the sum of the  two dice, and are subject to any privileges or penalties pertaining to  the space on which you land. Retaining the dice, throw again and move  your token as before. If you throw doubles three times in succession,  move your token immediately to the space marked \"In Jail\" (see JAIL).', 'sentences': ['Each player is given $1,500 divided as follows: P each of $500s,  $ 1 0 0 ~   and $50~; 6 $40~; 5 each of $105, $ 5 ~   and $Is.', ' All remaining money and other equipment go to the Bank.', \"Stack the ..  Bank's money on edge in the compartments in the plastic Banker's tray.\", ' BANKER.', 'Select as Banker a player who will also  make a good Auctioneer A Banker who plays  ~n the game must keep hislher personal funds  separate from those of the Bank.', 'When more than  f~ve persons play, the Banker may elect to act only  as Banker and Auctioneer.', \" THE BANK: Besides the Bank's money, the Bank  holds the Title Deed cards and houses and hotels prior to purchase  and use by the players.\", 'The Bank pays salaries and bonuses.', 'It sells  and auctions properties and hands out the~r proper Title Deed cards;  it sells houses and hotels to the players and loans money when  required on mortgages.', ' The Bank collects all taxes, fines, loans and interest, and the price of  all properties which it sells and auctions.', ' The Bank nwer \"goes broke.\"', 'If the Bank runs out of money, the Banker  may issue as much more as needed by writing on any ordinary paper.', ' THE PLAY: Starting with the Banker, each player in turn throws the dice.', ' The player with the highest total starts the play: Place your  token on the corner marked \"GO,\" throw the dice and move  your token in the direction of the arrow the number of  spaces indicated by the dice.', 'After you have completed  your play, the turn passes to the left.', \"The tokens remain  on the spaces qccupied and proceed from that point on  the player's next turn.\", 'Two or more tokens may rest on the  same space at the same time.', ' According to the space your token reaches, you may be entitled to  buy real estate or other properties -  or obliged to pay rent, pay taxes,  draw a Chance or Community Chest card, \"Go to Jail,\" etc.', ' If you throw doubles, you move your token as usual, the sum of the  two dice, and are subject to any privileges or penalties pertaining to  the space on which you land.', 'Retaining the dice, throw again and move  your token as before.', 'If you throw doubles three times in succession,  move your token immediately to the space marked \"In Jail\" (see JAIL).'], 'page_sentence_count_spacy': 21, 'sentence_chunks': [['Each player is given $1,500 divided as follows: P each of $500s,  $ 1 0 0 ~   and $50~; 6 $40~; 5 each of $105, $ 5 ~   and $Is.', ' All remaining money and other equipment go to the Bank.', \"Stack the ..  Bank's money on edge in the compartments in the plastic Banker's tray.\", ' BANKER.', 'Select as Banker a player who will also  make a good Auctioneer A Banker who plays  ~n the game must keep hislher personal funds  separate from those of the Bank.', 'When more than  f~ve persons play, the Banker may elect to act only  as Banker and Auctioneer.', \" THE BANK: Besides the Bank's money, the Bank  holds the Title Deed cards and houses and hotels prior to purchase  and use by the players.\", 'The Bank pays salaries and bonuses.', 'It sells  and auctions properties and hands out the~r proper Title Deed cards;  it sells houses and hotels to the players and loans money when  required on mortgages.', ' The Bank collects all taxes, fines, loans and interest, and the price of  all properties which it sells and auctions.'], [' The Bank nwer \"goes broke.\"', 'If the Bank runs out of money, the Banker  may issue as much more as needed by writing on any ordinary paper.', ' THE PLAY: Starting with the Banker, each player in turn throws the dice.', ' The player with the highest total starts the play: Place your  token on the corner marked \"GO,\" throw the dice and move  your token in the direction of the arrow the number of  spaces indicated by the dice.', 'After you have completed  your play, the turn passes to the left.', \"The tokens remain  on the spaces qccupied and proceed from that point on  the player's next turn.\", 'Two or more tokens may rest on the  same space at the same time.', ' According to the space your token reaches, you may be entitled to  buy real estate or other properties -  or obliged to pay rent, pay taxes,  draw a Chance or Community Chest card, \"Go to Jail,\" etc.', ' If you throw doubles, you move your token as usual, the sum of the  two dice, and are subject to any privileges or penalties pertaining to  the space on which you land.', 'Retaining the dice, throw again and move  your token as before.'], ['If you throw doubles three times in succession,  move your token immediately to the space marked \"In Jail\" (see JAIL).']]}\n",
      "{'page_number': 3, 'char_count': 2089, 'page_word_count': 408, 'page_sentence_count': 17, 'page_token_count': 522.25, 'text': '\"GO\": Each time a player\\'s token lands on or passes over  GO, whether by throwing the dice or drawing a card,  the Banker pays himther a $200 sala,ry.  The $200 is paid only once each time kound  the board. However, if a player passing GO on  the throw of the dice lands 2 spaces beyond it  on Community Chest, or 7 spaces beyond  it on Chance, and draws the \"Advance to GO\" card, helshe collects  $200 for passing GO the first time and another $200 for reaching it the  second time by instructions on the card.  BUYING PROPERTY: Whenever you land on an unowned property you  may buy that property from the Bank at its printed price. You receive the  Title Deed card showing ownership; place it faceup in front of you.  If you do not wish to buy the property, the Banker sells it at auction  to the highest bidder. The buyer pays the Bank the amount of the bid  in cash and receives the Title Deed card for that property. Any player,  including the one who declined the option to buy it at the printed  price, may bid. Bidding may start at any price.  PAMNG  When you land on property owned by another player,  the owner collects rent from you in accordance with the list printed on  its Title Deed card.  If the property is mortgaged, no rent can be collected. When a  property is mortgaged, its Title Deed card is placed facedown in front  of the owner.  L  It is an advantage to hold all the Title Deed cards in a color-  group (e.g., Boardwalk and Park Place; or Connecticut, Vermont and  Oriental Avenues) because the owner may then charge double rent  for unimproved properties in that color-group. This rule applies to  unmortgaged properties even if another property in that color-group is  mortgaged.  It is even more advantageous to have houses or hotels on properties  because rents are much higher than for unimproved properties.  The owner may not collect the rent if he/she fails to ask for it before  the second player following throws the dice.  \"CHANCE\" AND \"COMMUNITY CHEST\": When you land on either of  these spaces, take the top card from the deck indicated, follow the', 'sentences': ['\"GO\": Each time a player\\'s token lands on or passes over  GO, whether by throwing the dice or drawing a card,  the Banker pays himther a $200 sala,ry.', ' The $200 is paid only once each time kound  the board.', 'However, if a player passing GO on  the throw of the dice lands 2 spaces beyond it  on Community Chest, or 7 spaces beyond  it on Chance, and draws the \"Advance to GO\" card, helshe collects  $200 for passing GO the first time and another $200 for reaching it the  second time by instructions on the card.', ' BUYING PROPERTY: Whenever you land on an unowned property you  may buy that property from the Bank at its printed price.', 'You receive the  Title Deed card showing ownership; place it faceup in front of you.', ' If you do not wish to buy the property, the Banker sells it at auction  to the highest bidder.', 'The buyer pays the Bank the amount of the bid  in cash and receives the Title Deed card for that property.', 'Any player,  including the one who declined the option to buy it at the printed  price, may bid.', 'Bidding may start at any price.', ' PAMNG  When you land on property owned by another player,  the owner collects rent from you in accordance with the list printed on  its Title Deed card.', ' If the property is mortgaged, no rent can be collected.', 'When a  property is mortgaged, its Title Deed card is placed facedown in front  of the owner.', ' L  It is an advantage to hold all the Title Deed cards in a color-  group (e.g., Boardwalk and Park Place; or Connecticut, Vermont and  Oriental Avenues) because the owner may then charge double rent  for unimproved properties in that color-group.', 'This rule applies to  unmortgaged properties even if another property in that color-group is  mortgaged.', ' It is even more advantageous to have houses or hotels on properties  because rents are much higher than for unimproved properties.', ' The owner may not collect the rent if he/she fails to ask for it before  the second player following throws the dice.', ' \"CHANCE\" AND \"COMMUNITY CHEST\": When you land on either of  these spaces, take the top card from the deck indicated, follow the'], 'page_sentence_count_spacy': 17, 'sentence_chunks': [['\"GO\": Each time a player\\'s token lands on or passes over  GO, whether by throwing the dice or drawing a card,  the Banker pays himther a $200 sala,ry.', ' The $200 is paid only once each time kound  the board.', 'However, if a player passing GO on  the throw of the dice lands 2 spaces beyond it  on Community Chest, or 7 spaces beyond  it on Chance, and draws the \"Advance to GO\" card, helshe collects  $200 for passing GO the first time and another $200 for reaching it the  second time by instructions on the card.', ' BUYING PROPERTY: Whenever you land on an unowned property you  may buy that property from the Bank at its printed price.', 'You receive the  Title Deed card showing ownership; place it faceup in front of you.', ' If you do not wish to buy the property, the Banker sells it at auction  to the highest bidder.', 'The buyer pays the Bank the amount of the bid  in cash and receives the Title Deed card for that property.', 'Any player,  including the one who declined the option to buy it at the printed  price, may bid.', 'Bidding may start at any price.', ' PAMNG  When you land on property owned by another player,  the owner collects rent from you in accordance with the list printed on  its Title Deed card.'], [' If the property is mortgaged, no rent can be collected.', 'When a  property is mortgaged, its Title Deed card is placed facedown in front  of the owner.', ' L  It is an advantage to hold all the Title Deed cards in a color-  group (e.g., Boardwalk and Park Place; or Connecticut, Vermont and  Oriental Avenues) because the owner may then charge double rent  for unimproved properties in that color-group.', 'This rule applies to  unmortgaged properties even if another property in that color-group is  mortgaged.', ' It is even more advantageous to have houses or hotels on properties  because rents are much higher than for unimproved properties.', ' The owner may not collect the rent if he/she fails to ask for it before  the second player following throws the dice.', ' \"CHANCE\" AND \"COMMUNITY CHEST\": When you land on either of  these spaces, take the top card from the deck indicated, follow the']]}\n",
      "{'page_number': 4, 'char_count': 2047, 'page_word_count': 429, 'page_sentence_count': 16, 'page_token_count': 511.75, 'text': 'instructions and return the card facedown to the bottom of the deck.  The \"Get Out of Jail Free\" card is held until used and then returned to  the bottom of the deck. If the player who draws it does not wish to use  it, helshe may sell it, at any time, to another player at a price agreeable  to both.  \"INCOME TAX\": If you land here you have two options: You may  estimate your tax at $900 and pay the Bank, or you may pay 10% of  your total worth to the Bank. Your total worth is all your cash on hand,  printed prices of mortgaged and unmortgaged properties and cost  price of all buildings you own.  You must decide which option you will take before you add up  your total worth.  \"JAIL\": You land in Jail when. ..(I) your token lands on the space  marked \"Go to Jail\"; (2) you draw a card marked \"Go to JailN; or  (3) you throw doubles three times in succession.  When you are sent to Jail you cannot  collect your $200 salary in that move  since, regardless of where your token  is on the board, you must move it  directly into Jail. Your turn ends when  you are sent to Jail.  If you are not \"sent\" to Jail but in the ordinary course of play land on  that space, you are \"Just Visiting,\" you incur no penalty, and you move  ahead in the usual manner on your next turn.  You get out of Jail by.. .(I) throwing doubles on any of your next  three turns; if you succeed in doing this you immediately move forward  the number of spaces shown by your doubles throw; even though you  had thrown doubles, you do not take another turn; (2) using the \"Get  Out of Jail Free\" card if you have it; (3) purchasing the \"Get Out of Jail  Free\" card from another player and playing it; (4) paying a fine of $50  before you roll the dice on either of your next two turns.  If you do not throw doubles by your third turn, you must pay the $50  fine. You then get out of Jail and immediately move forward the number  of spaces shown by your throw.  Even though you are in Jail, you may buy and sell property, buy and  sell houses and hotels and collect rents.', 'sentences': ['instructions and return the card facedown to the bottom of the deck.', ' The \"Get Out of Jail Free\" card is held until used and then returned to  the bottom of the deck.', 'If the player who draws it does not wish to use  it, helshe may sell it, at any time, to another player at a price agreeable  to both.', ' \"INCOME TAX\": If you land here you have two options: You may  estimate your tax at $900 and pay the Bank, or you may pay 10% of  your total worth to the Bank.', 'Your total worth is all your cash on hand,  printed prices of mortgaged and unmortgaged properties and cost  price of all buildings you own.', ' You must decide which option you will take before you add up  your total worth.', ' \"JAIL\": You land in Jail when. ..(', 'I) your token lands on the space  marked \"Go to Jail\"; (2) you draw a card marked \"Go to JailN; or  (3) you throw doubles three times in succession.', ' When you are sent to Jail you cannot  collect your $200 salary in that move  since, regardless of where your token  is on the board, you must move it  directly into Jail.', 'Your turn ends when  you are sent to Jail.', ' If you are not \"sent\" to Jail but in the ordinary course of play land on  that space, you are \"Just Visiting,\" you incur no penalty, and you move  ahead in the usual manner on your next turn.', ' You get out of Jail by.. .(I) throwing doubles on any of your next  three turns; if you succeed in doing this you immediately move forward  the number of spaces shown by your doubles throw; even though you  had thrown doubles, you do not take another turn; (2) using the \"Get  Out of Jail Free\" card if you have it; (3) purchasing the \"Get Out of Jail  Free\" card from another player and playing it; (4) paying a fine of $50  before you roll the dice on either of your next two turns.', ' If you do not throw doubles by your third turn, you must pay the $50  fine.', 'You then get out of Jail and immediately move forward the number  of spaces shown by your throw.', ' Even though you are in Jail, you may buy and sell property, buy and  sell houses and hotels and collect rents.'], 'page_sentence_count_spacy': 15, 'sentence_chunks': [['instructions and return the card facedown to the bottom of the deck.', ' The \"Get Out of Jail Free\" card is held until used and then returned to  the bottom of the deck.', 'If the player who draws it does not wish to use  it, helshe may sell it, at any time, to another player at a price agreeable  to both.', ' \"INCOME TAX\": If you land here you have two options: You may  estimate your tax at $900 and pay the Bank, or you may pay 10% of  your total worth to the Bank.', 'Your total worth is all your cash on hand,  printed prices of mortgaged and unmortgaged properties and cost  price of all buildings you own.', ' You must decide which option you will take before you add up  your total worth.', ' \"JAIL\": You land in Jail when. ..(', 'I) your token lands on the space  marked \"Go to Jail\"; (2) you draw a card marked \"Go to JailN; or  (3) you throw doubles three times in succession.', ' When you are sent to Jail you cannot  collect your $200 salary in that move  since, regardless of where your token  is on the board, you must move it  directly into Jail.', 'Your turn ends when  you are sent to Jail.'], [' If you are not \"sent\" to Jail but in the ordinary course of play land on  that space, you are \"Just Visiting,\" you incur no penalty, and you move  ahead in the usual manner on your next turn.', ' You get out of Jail by.. .(I) throwing doubles on any of your next  three turns; if you succeed in doing this you immediately move forward  the number of spaces shown by your doubles throw; even though you  had thrown doubles, you do not take another turn; (2) using the \"Get  Out of Jail Free\" card if you have it; (3) purchasing the \"Get Out of Jail  Free\" card from another player and playing it; (4) paying a fine of $50  before you roll the dice on either of your next two turns.', ' If you do not throw doubles by your third turn, you must pay the $50  fine.', 'You then get out of Jail and immediately move forward the number  of spaces shown by your throw.', ' Even though you are in Jail, you may buy and sell property, buy and  sell houses and hotels and collect rents.']]}\n",
      "{'page_number': 5, 'char_count': 2096, 'page_word_count': 423, 'page_sentence_count': 17, 'page_token_count': 524.0, 'text': '\"FREE PARKING\": A player landing on this place does not  receive any money, property or reward of any kind. This is just a \"free\"  resting place.  HOUSES: When you own all the propert~es in a color-group  you may buy houses from the Bank and erect them on those properties.  If you buy one house, you may put it on any  one of those properties. The next house you  buy must be erected on one of the unimproved  properties of this or any other complete color-  group you may own.  The price you must pay the Bank for each  house is shown on your ltle Deed card for the  property on which you erect the house.  The owner still collects double rent from an opponent who lands on  the unimproved properties of hisher complete color-group.  Following the above rules, you may buy and erect at any time as  many houses as your judgement and financial standing will allow. But  you must build evenly, i.e., you cannot erect more than one house on  any one property of any color-group until you have built one house on  wery property of that group. You may then begin on the second row  of houses, and so on, up to a limit of four houses to a property. For  example, you cannot build three houses on one property if you have  only one house on another property of that group.  As you build evenly, you must also break down evenly ifyou sell  houses back to the Bank (see SELLING PROPERTY).  HOTELS: When a player has four houses on each property of a  complete color-group, hdshe may buy a hotel from the Bank and erect  it on any property of the color-group. Hdshe returns the four houses  from that property to the Bank and pays the price for the hotel as shown  on the Ttle Deed card. Only one hotel may be erected on any one  property.  BUILDING SHORTAGES: When the Bank has no houses to sell, players  wishing to build must wait for some player to return or sell histher  houses to the Bank before building. If there are a limited number of  houses and hotels available and two or more players wish to buy more  than the Bank has, the houses or hotels must be sold at auction to the  highest bidder.', 'sentences': ['\"FREE PARKING\": A player landing on this place does not  receive any money, property or reward of any kind.', 'This is just a \"free\"  resting place.', ' HOUSES: When you own all the propert~es in a color-group  you may buy houses from the Bank and erect them on those properties.', ' If you buy one house, you may put it on any  one of those properties.', 'The next house you  buy must be erected on one of the unimproved  properties of this or any other complete color-  group you may own.', ' The price you must pay the Bank for each  house is shown on your ltle Deed card for the  property on which you erect the house.', ' The owner still collects double rent from an opponent who lands on  the unimproved properties of hisher complete color-group.', ' Following the above rules, you may buy and erect at any time as  many houses as your judgement and financial standing will allow.', 'But  you must build evenly, i.e., you cannot erect more than one house on  any one property of any color-group until you have built one house on  wery property of that group.', 'You may then begin on the second row  of houses, and so on, up to a limit of four houses to a property.', 'For  example, you cannot build three houses on one property if you have  only one house on another property of that group.', ' As you build evenly, you must also break down evenly ifyou sell  houses back to the Bank (see SELLING PROPERTY).', ' HOTELS: When a player has four houses on each property of a  complete color-group, hdshe may buy a hotel from the Bank and erect  it on any property of the color-group.', 'Hdshe returns the four houses  from that property to the Bank and pays the price for the hotel as shown  on the Ttle Deed card.', 'Only one hotel may be erected on any one  property.', ' BUILDING SHORTAGES: When the Bank has no houses to sell, players  wishing to build must wait for some player to return or sell histher  houses to the Bank before building.', 'If there are a limited number of  houses and hotels available and two or more players wish to buy more  than the Bank has, the houses or hotels must be sold at auction to the  highest bidder.'], 'page_sentence_count_spacy': 17, 'sentence_chunks': [['\"FREE PARKING\": A player landing on this place does not  receive any money, property or reward of any kind.', 'This is just a \"free\"  resting place.', ' HOUSES: When you own all the propert~es in a color-group  you may buy houses from the Bank and erect them on those properties.', ' If you buy one house, you may put it on any  one of those properties.', 'The next house you  buy must be erected on one of the unimproved  properties of this or any other complete color-  group you may own.', ' The price you must pay the Bank for each  house is shown on your ltle Deed card for the  property on which you erect the house.', ' The owner still collects double rent from an opponent who lands on  the unimproved properties of hisher complete color-group.', ' Following the above rules, you may buy and erect at any time as  many houses as your judgement and financial standing will allow.', 'But  you must build evenly, i.e., you cannot erect more than one house on  any one property of any color-group until you have built one house on  wery property of that group.', 'You may then begin on the second row  of houses, and so on, up to a limit of four houses to a property.'], ['For  example, you cannot build three houses on one property if you have  only one house on another property of that group.', ' As you build evenly, you must also break down evenly ifyou sell  houses back to the Bank (see SELLING PROPERTY).', ' HOTELS: When a player has four houses on each property of a  complete color-group, hdshe may buy a hotel from the Bank and erect  it on any property of the color-group.', 'Hdshe returns the four houses  from that property to the Bank and pays the price for the hotel as shown  on the Ttle Deed card.', 'Only one hotel may be erected on any one  property.', ' BUILDING SHORTAGES: When the Bank has no houses to sell, players  wishing to build must wait for some player to return or sell histher  houses to the Bank before building.', 'If there are a limited number of  houses and hotels available and two or more players wish to buy more  than the Bank has, the houses or hotels must be sold at auction to the  highest bidder.']]}\n",
      "{'page_number': 6, 'char_count': 2057, 'page_word_count': 406, 'page_sentence_count': 16, 'page_token_count': 514.25, 'text': 'SELLING PROPERN: Unimproved properties, railroads and util~ties  (but not buildings) may be sold to any player as a private transaction  for any amount the owner can get; however, no property can be sold to -  another player if buildings are standing on any properties of that color-  group. Any buildings so located must be sold back to the Bank before  the owner can sell any property of that color-group.  Houses and hotels may be sold back to the Bank at any time for one-  half the price paid for them.  All houses on one color-group must be sold one by one, evenly, in  reverse of the manner in which they were erected.  All hotels on one color-group may be sold at once, or they may be  sold one house at a time (one hotel equals five houses), evenly, in  reverse of the manner in which they were erected.  MORTGAGES: Unimproved properties can be mortgaged through the  Bank at any time. Before an improved property can be mortgaged, all  the buildings on all the properties of its color-group must be sold back  to the Bank at half price. The mortgage value is printed on each Title  Deed card.  No rent can be collected on mortgaged properties or utilities,  but rent can be collected on unmortgaged properties in the  same group.  In order to lift the mortgage, the owner must pay the Bank the  amount of the mortgage plus 10% interest. When all the propert~es of  a color-group are no longer mortgaged, the owner may begin to buy  back houses at full price.  The player who mortgages property retains possession of it and  no other player may secure it by lifting the mortgage from the Bank.  However, the owner may sell this mortgaged property to another player  at any agreed price. If you are the new owner, you may lift the mortgage  at once if you wish by paying off the mortgage plus  10% interest to the Bank. If the mortgage is not lifted  at once, you must pay the Bank 10% interest when  you buy the property and if you lift the  mortgage later you must pay the Bank  an additional 10% interest as well  as the amount of the mortgage. n', 'sentences': ['SELLING PROPERN: Unimproved properties, railroads and util~ties  (but not buildings) may be sold to any player as a private transaction  for any amount the owner can get; however, no property can be sold to -  another player if buildings are standing on any properties of that color-  group.', 'Any buildings so located must be sold back to the Bank before  the owner can sell any property of that color-group.', ' Houses and hotels may be sold back to the Bank at any time for one-  half the price paid for them.', ' All houses on one color-group must be sold one by one, evenly, in  reverse of the manner in which they were erected.', ' All hotels on one color-group may be sold at once, or they may be  sold one house at a time (one hotel equals five houses), evenly, in  reverse of the manner in which they were erected.', ' MORTGAGES: Unimproved properties can be mortgaged through the  Bank at any time.', 'Before an improved property can be mortgaged, all  the buildings on all the properties of its color-group must be sold back  to the Bank at half price.', 'The mortgage value is printed on each Title  Deed card.', ' No rent can be collected on mortgaged properties or utilities,  but rent can be collected on unmortgaged properties in the  same group.', ' In order to lift the mortgage, the owner must pay the Bank the  amount of the mortgage plus 10% interest.', 'When all the propert~es of  a color-group are no longer mortgaged, the owner may begin to buy  back houses at full price.', ' The player who mortgages property retains possession of it and  no other player may secure it by lifting the mortgage from the Bank.', ' However, the owner may sell this mortgaged property to another player  at any agreed price.', 'If you are the new owner, you may lift the mortgage  at once if you wish by paying off the mortgage plus  10% interest to the Bank.', 'If the mortgage is not lifted  at once, you must pay the Bank 10% interest when  you buy the property and if you lift the  mortgage later you must pay the Bank  an additional 10% interest as well  as the amount of the mortgage.', 'n'], 'page_sentence_count_spacy': 16, 'sentence_chunks': [['SELLING PROPERN: Unimproved properties, railroads and util~ties  (but not buildings) may be sold to any player as a private transaction  for any amount the owner can get; however, no property can be sold to -  another player if buildings are standing on any properties of that color-  group.', 'Any buildings so located must be sold back to the Bank before  the owner can sell any property of that color-group.', ' Houses and hotels may be sold back to the Bank at any time for one-  half the price paid for them.', ' All houses on one color-group must be sold one by one, evenly, in  reverse of the manner in which they were erected.', ' All hotels on one color-group may be sold at once, or they may be  sold one house at a time (one hotel equals five houses), evenly, in  reverse of the manner in which they were erected.', ' MORTGAGES: Unimproved properties can be mortgaged through the  Bank at any time.', 'Before an improved property can be mortgaged, all  the buildings on all the properties of its color-group must be sold back  to the Bank at half price.', 'The mortgage value is printed on each Title  Deed card.', ' No rent can be collected on mortgaged properties or utilities,  but rent can be collected on unmortgaged properties in the  same group.', ' In order to lift the mortgage, the owner must pay the Bank the  amount of the mortgage plus 10% interest.'], ['When all the propert~es of  a color-group are no longer mortgaged, the owner may begin to buy  back houses at full price.', ' The player who mortgages property retains possession of it and  no other player may secure it by lifting the mortgage from the Bank.', ' However, the owner may sell this mortgaged property to another player  at any agreed price.', 'If you are the new owner, you may lift the mortgage  at once if you wish by paying off the mortgage plus  10% interest to the Bank.', 'If the mortgage is not lifted  at once, you must pay the Bank 10% interest when  you buy the property and if you lift the  mortgage later you must pay the Bank  an additional 10% interest as well  as the amount of the mortgage.', 'n']]}\n",
      "{'page_number': 7, 'char_count': 2208, 'page_word_count': 421, 'page_sentence_count': 26, 'page_token_count': 552.0, 'text': 'BANKRUPTCY.. You are declared bankrupt if you owe more than you  can pay either to another player or to the Bank. If your  ,  debt is to another player, you must tum over to that  player all that you have of value and retire from the  game. In making this settlement, if you own houses or  hotels, you must retum these to the Bank in exchange  for money to the extent of one-half the amount paid  for them; this cash is given to the creditor. If you have  mortgaged property you also turn this property over  to your creditor but the new owner must at once pay .  the Bank the amount of interest on the loan, which is 10% of the value of  the property. The new owner who does this may then, at hislher option,  pay the principal or hold the property until some later turn, then lift the  mortgage. If helshe holds property in this way until a later turn, helshe  must pay the interest again upon lifting the mortgage.  Should you owe the Bank, instead of another player, more than you  can pay (because of taxes or penalties) even by selling off buildings  and mortgaging property, you must turn over all assets to the Bank. In  this case, the Bank immediately sells by auction all property so taken,  except buildings. A bankrupt player must immediately retire from the  game. The last player left in the game wins.  MISCEUANEOUS: Money can be loaned to a player only by the Bank  and then only by mortgaging property. No player may borrow from or  lend money to another player.  L  We will be happy to hear your questions or comments about this game. Write to: Hasbro  Games, Consumer Affairs Dept., P.O. Box 200, Pawtucket, RI 02862. Tel: 888-836-7025  (toll free). Canadian consumers please write to: Hasbro Canada Corporation, 2350 de la  Province, Longueuil, QC Canada, J4G 1G2.  The HASBRO, PARKER BROTHERS, and MONOPOLY names and logos, the distinctive design of  the gameboard, the four comer squares, the MR. MONOPOLY name and character, and each of the  distinctive elements of the board and rules are trademarks of Hasbro for its property trading game  and game equipment. 02004,2007 Hasbro, Pawtucket, RI 02862.  All Rights Reserved. TM & @3 denote U.S. Trademarks.  00009-1  PROOF OF PURCHASE I', 'sentences': ['BANKRUPTCY.. You are declared bankrupt if you owe more than you  can pay either to another player or to the Bank.', 'If your  ,  debt is to another player, you must tum over to that  player all that you have of value and retire from the  game.', 'In making this settlement, if you own houses or  hotels, you must retum these to the Bank in exchange  for money to the extent of one-half the amount paid  for them; this cash is given to the creditor.', 'If you have  mortgaged property you also turn this property over  to your creditor but the new owner must at once pay .', ' the Bank the amount of interest on the loan, which is 10% of the value of  the property.', 'The new owner who does this may then, at hislher option,  pay the principal or hold the property until some later turn, then lift the  mortgage.', 'If helshe holds property in this way until a later turn, helshe  must pay the interest again upon lifting the mortgage.', ' Should you owe the Bank, instead of another player, more than you  can pay (because of taxes or penalties) even by selling off buildings  and mortgaging property, you must turn over all assets to the Bank.', 'In  this case, the Bank immediately sells by auction all property so taken,  except buildings.', 'A bankrupt player must immediately retire from the  game.', 'The last player left in the game wins.', ' MISCEUANEOUS: Money can be loaned to a player only by the Bank  and then only by mortgaging property.', 'No player may borrow from or  lend money to another player.', ' L  We will be happy to hear your questions or comments about this game.', 'Write to: Hasbro  Games, Consumer Affairs Dept.,', 'P.O. Box 200, Pawtucket, RI 02862.', 'Tel: 888-836-7025  (toll free).', 'Canadian consumers please write to: Hasbro Canada Corporation, 2350 de la  Province, Longueuil, QC Canada, J4G 1G2.', ' The HASBRO, PARKER BROTHERS, and MONOPOLY names and logos, the distinctive design of  the gameboard, the four comer squares, the MR.', 'MONOPOLY name and character, and each of the  distinctive elements of the board and rules are trademarks of Hasbro for its property trading game  and game equipment.', '02004,2007 Hasbro, Pawtucket, RI 02862.', ' All Rights Reserved.', 'TM & @3 denote U.S. Trademarks.', ' 00009-1  PROOF OF PURCHASE I'], 'page_sentence_count_spacy': 24, 'sentence_chunks': [['BANKRUPTCY.. You are declared bankrupt if you owe more than you  can pay either to another player or to the Bank.', 'If your  ,  debt is to another player, you must tum over to that  player all that you have of value and retire from the  game.', 'In making this settlement, if you own houses or  hotels, you must retum these to the Bank in exchange  for money to the extent of one-half the amount paid  for them; this cash is given to the creditor.', 'If you have  mortgaged property you also turn this property over  to your creditor but the new owner must at once pay .', ' the Bank the amount of interest on the loan, which is 10% of the value of  the property.', 'The new owner who does this may then, at hislher option,  pay the principal or hold the property until some later turn, then lift the  mortgage.', 'If helshe holds property in this way until a later turn, helshe  must pay the interest again upon lifting the mortgage.', ' Should you owe the Bank, instead of another player, more than you  can pay (because of taxes or penalties) even by selling off buildings  and mortgaging property, you must turn over all assets to the Bank.', 'In  this case, the Bank immediately sells by auction all property so taken,  except buildings.', 'A bankrupt player must immediately retire from the  game.'], ['The last player left in the game wins.', ' MISCEUANEOUS: Money can be loaned to a player only by the Bank  and then only by mortgaging property.', 'No player may borrow from or  lend money to another player.', ' L  We will be happy to hear your questions or comments about this game.', 'Write to: Hasbro  Games, Consumer Affairs Dept.,', 'P.O. Box 200, Pawtucket, RI 02862.', 'Tel: 888-836-7025  (toll free).', 'Canadian consumers please write to: Hasbro Canada Corporation, 2350 de la  Province, Longueuil, QC Canada, J4G 1G2.', ' The HASBRO, PARKER BROTHERS, and MONOPOLY names and logos, the distinctive design of  the gameboard, the four comer squares, the MR.', 'MONOPOLY name and character, and each of the  distinctive elements of the board and rules are trademarks of Hasbro for its property trading game  and game equipment.'], ['02004,2007 Hasbro, Pawtucket, RI 02862.', ' All Rights Reserved.', 'TM & @3 denote U.S. Trademarks.', ' 00009-1  PROOF OF PURCHASE I']]}\n"
     ]
    }
   ],
   "source": [
    "# Loop through pages and texts and split sentences into chunks\n",
    "\n",
    "for item in tqdm(pages_and_texts):\n",
    "    item[\"sentence_chunks\"] = split_text_to_chunks(input_list=item[\"sentences\"], \n",
    "                                                   slice_size=num_sentences_chunk_size)\n",
    "    print(item)\n"
   ]
  },
  {
   "cell_type": "code",
   "execution_count": 56,
   "metadata": {},
   "outputs": [
    {
     "data": {
      "text/html": [
       "<div>\n",
       "<style scoped>\n",
       "    .dataframe tbody tr th:only-of-type {\n",
       "        vertical-align: middle;\n",
       "    }\n",
       "\n",
       "    .dataframe tbody tr th {\n",
       "        vertical-align: top;\n",
       "    }\n",
       "\n",
       "    .dataframe thead th {\n",
       "        text-align: right;\n",
       "    }\n",
       "</style>\n",
       "<table border=\"1\" class=\"dataframe\">\n",
       "  <thead>\n",
       "    <tr style=\"text-align: right;\">\n",
       "      <th></th>\n",
       "      <th>page_number</th>\n",
       "      <th>char_count</th>\n",
       "      <th>page_word_count</th>\n",
       "      <th>page_sentence_count</th>\n",
       "      <th>page_token_count</th>\n",
       "      <th>text</th>\n",
       "      <th>sentences</th>\n",
       "      <th>page_sentence_count_spacy</th>\n",
       "      <th>sentence_chunks</th>\n",
       "    </tr>\n",
       "  </thead>\n",
       "  <tbody>\n",
       "    <tr>\n",
       "      <th>0</th>\n",
       "      <td>0</td>\n",
       "      <td>1394</td>\n",
       "      <td>291</td>\n",
       "      <td>18</td>\n",
       "      <td>348.50</td>\n",
       "      <td>MONOPOLY  Property Trading Game from Parker Br...</td>\n",
       "      <td>[MONOPOLY  Property Trading Game from Parker B...</td>\n",
       "      <td>18</td>\n",
       "      <td>[[MONOPOLY  Property Trading Game from Parker ...</td>\n",
       "    </tr>\n",
       "    <tr>\n",
       "      <th>1</th>\n",
       "      <td>1</td>\n",
       "      <td>1847</td>\n",
       "      <td>389</td>\n",
       "      <td>19</td>\n",
       "      <td>461.75</td>\n",
       "      <td>Bus: This lets you \"get off the bus early.\" Lo...</td>\n",
       "      <td>[Bus: This lets you \"get off the bus early.\", ...</td>\n",
       "      <td>19</td>\n",
       "      <td>[[Bus: This lets you \"get off the bus early.\",...</td>\n",
       "    </tr>\n",
       "    <tr>\n",
       "      <th>2</th>\n",
       "      <td>2</td>\n",
       "      <td>2202</td>\n",
       "      <td>444</td>\n",
       "      <td>21</td>\n",
       "      <td>550.50</td>\n",
       "      <td>Each player is given $1,500 divided as follows...</td>\n",
       "      <td>[Each player is given $1,500 divided as follow...</td>\n",
       "      <td>21</td>\n",
       "      <td>[[Each player is given $1,500 divided as follo...</td>\n",
       "    </tr>\n",
       "    <tr>\n",
       "      <th>3</th>\n",
       "      <td>3</td>\n",
       "      <td>2089</td>\n",
       "      <td>408</td>\n",
       "      <td>17</td>\n",
       "      <td>522.25</td>\n",
       "      <td>\"GO\": Each time a player's token lands on or p...</td>\n",
       "      <td>[\"GO\": Each time a player's token lands on or ...</td>\n",
       "      <td>17</td>\n",
       "      <td>[[\"GO\": Each time a player's token lands on or...</td>\n",
       "    </tr>\n",
       "    <tr>\n",
       "      <th>4</th>\n",
       "      <td>4</td>\n",
       "      <td>2047</td>\n",
       "      <td>429</td>\n",
       "      <td>16</td>\n",
       "      <td>511.75</td>\n",
       "      <td>instructions and return the card facedown to t...</td>\n",
       "      <td>[instructions and return the card facedown to ...</td>\n",
       "      <td>15</td>\n",
       "      <td>[[instructions and return the card facedown to...</td>\n",
       "    </tr>\n",
       "  </tbody>\n",
       "</table>\n",
       "</div>"
      ],
      "text/plain": [
       "   page_number  char_count  page_word_count  page_sentence_count  \\\n",
       "0            0        1394              291                   18   \n",
       "1            1        1847              389                   19   \n",
       "2            2        2202              444                   21   \n",
       "3            3        2089              408                   17   \n",
       "4            4        2047              429                   16   \n",
       "\n",
       "   page_token_count                                               text  \\\n",
       "0            348.50  MONOPOLY  Property Trading Game from Parker Br...   \n",
       "1            461.75  Bus: This lets you \"get off the bus early.\" Lo...   \n",
       "2            550.50  Each player is given $1,500 divided as follows...   \n",
       "3            522.25  \"GO\": Each time a player's token lands on or p...   \n",
       "4            511.75  instructions and return the card facedown to t...   \n",
       "\n",
       "                                           sentences  \\\n",
       "0  [MONOPOLY  Property Trading Game from Parker B...   \n",
       "1  [Bus: This lets you \"get off the bus early.\", ...   \n",
       "2  [Each player is given $1,500 divided as follow...   \n",
       "3  [\"GO\": Each time a player's token lands on or ...   \n",
       "4  [instructions and return the card facedown to ...   \n",
       "\n",
       "   page_sentence_count_spacy  \\\n",
       "0                         18   \n",
       "1                         19   \n",
       "2                         21   \n",
       "3                         17   \n",
       "4                         15   \n",
       "\n",
       "                                     sentence_chunks  \n",
       "0  [[MONOPOLY  Property Trading Game from Parker ...  \n",
       "1  [[Bus: This lets you \"get off the bus early.\",...  \n",
       "2  [[Each player is given $1,500 divided as follo...  \n",
       "3  [[\"GO\": Each time a player's token lands on or...  \n",
       "4  [[instructions and return the card facedown to...  "
      ]
     },
     "execution_count": 56,
     "metadata": {},
     "output_type": "execute_result"
    }
   ],
   "source": [
    "df = pd.DataFrame(pages_and_texts)\n",
    "df.head()"
   ]
  },
  {
   "cell_type": "code",
   "execution_count": 58,
   "metadata": {},
   "outputs": [
    {
     "data": {
      "text/plain": [
       "[{'page_number': 7,\n",
       "  'char_count': 2208,\n",
       "  'page_word_count': 421,\n",
       "  'page_sentence_count': 26,\n",
       "  'page_token_count': 552.0,\n",
       "  'text': 'BANKRUPTCY.. You are declared bankrupt if you owe more than you  can pay either to another player or to the Bank. If your  ,  debt is to another player, you must tum over to that  player all that you have of value and retire from the  game. In making this settlement, if you own houses or  hotels, you must retum these to the Bank in exchange  for money to the extent of one-half the amount paid  for them; this cash is given to the creditor. If you have  mortgaged property you also turn this property over  to your creditor but the new owner must at once pay .  the Bank the amount of interest on the loan, which is 10% of the value of  the property. The new owner who does this may then, at hislher option,  pay the principal or hold the property until some later turn, then lift the  mortgage. If helshe holds property in this way until a later turn, helshe  must pay the interest again upon lifting the mortgage.  Should you owe the Bank, instead of another player, more than you  can pay (because of taxes or penalties) even by selling off buildings  and mortgaging property, you must turn over all assets to the Bank. In  this case, the Bank immediately sells by auction all property so taken,  except buildings. A bankrupt player must immediately retire from the  game. The last player left in the game wins.  MISCEUANEOUS: Money can be loaned to a player only by the Bank  and then only by mortgaging property. No player may borrow from or  lend money to another player.  L  We will be happy to hear your questions or comments about this game. Write to: Hasbro  Games, Consumer Affairs Dept., P.O. Box 200, Pawtucket, RI 02862. Tel: 888-836-7025  (toll free). Canadian consumers please write to: Hasbro Canada Corporation, 2350 de la  Province, Longueuil, QC Canada, J4G 1G2.  The HASBRO, PARKER BROTHERS, and MONOPOLY names and logos, the distinctive design of  the gameboard, the four comer squares, the MR. MONOPOLY name and character, and each of the  distinctive elements of the board and rules are trademarks of Hasbro for its property trading game  and game equipment. 02004,2007 Hasbro, Pawtucket, RI 02862.  All Rights Reserved. TM & @3 denote U.S. Trademarks.  00009-1  PROOF OF PURCHASE I',\n",
       "  'sentences': ['BANKRUPTCY.. You are declared bankrupt if you owe more than you  can pay either to another player or to the Bank.',\n",
       "   'If your  ,  debt is to another player, you must tum over to that  player all that you have of value and retire from the  game.',\n",
       "   'In making this settlement, if you own houses or  hotels, you must retum these to the Bank in exchange  for money to the extent of one-half the amount paid  for them; this cash is given to the creditor.',\n",
       "   'If you have  mortgaged property you also turn this property over  to your creditor but the new owner must at once pay .',\n",
       "   ' the Bank the amount of interest on the loan, which is 10% of the value of  the property.',\n",
       "   'The new owner who does this may then, at hislher option,  pay the principal or hold the property until some later turn, then lift the  mortgage.',\n",
       "   'If helshe holds property in this way until a later turn, helshe  must pay the interest again upon lifting the mortgage.',\n",
       "   ' Should you owe the Bank, instead of another player, more than you  can pay (because of taxes or penalties) even by selling off buildings  and mortgaging property, you must turn over all assets to the Bank.',\n",
       "   'In  this case, the Bank immediately sells by auction all property so taken,  except buildings.',\n",
       "   'A bankrupt player must immediately retire from the  game.',\n",
       "   'The last player left in the game wins.',\n",
       "   ' MISCEUANEOUS: Money can be loaned to a player only by the Bank  and then only by mortgaging property.',\n",
       "   'No player may borrow from or  lend money to another player.',\n",
       "   ' L  We will be happy to hear your questions or comments about this game.',\n",
       "   'Write to: Hasbro  Games, Consumer Affairs Dept.,',\n",
       "   'P.O. Box 200, Pawtucket, RI 02862.',\n",
       "   'Tel: 888-836-7025  (toll free).',\n",
       "   'Canadian consumers please write to: Hasbro Canada Corporation, 2350 de la  Province, Longueuil, QC Canada, J4G 1G2.',\n",
       "   ' The HASBRO, PARKER BROTHERS, and MONOPOLY names and logos, the distinctive design of  the gameboard, the four comer squares, the MR.',\n",
       "   'MONOPOLY name and character, and each of the  distinctive elements of the board and rules are trademarks of Hasbro for its property trading game  and game equipment.',\n",
       "   '02004,2007 Hasbro, Pawtucket, RI 02862.',\n",
       "   ' All Rights Reserved.',\n",
       "   'TM & @3 denote U.S. Trademarks.',\n",
       "   ' 00009-1  PROOF OF PURCHASE I'],\n",
       "  'page_sentence_count_spacy': 24,\n",
       "  'sentence_chunks': [['BANKRUPTCY.. You are declared bankrupt if you owe more than you  can pay either to another player or to the Bank.',\n",
       "    'If your  ,  debt is to another player, you must tum over to that  player all that you have of value and retire from the  game.',\n",
       "    'In making this settlement, if you own houses or  hotels, you must retum these to the Bank in exchange  for money to the extent of one-half the amount paid  for them; this cash is given to the creditor.',\n",
       "    'If you have  mortgaged property you also turn this property over  to your creditor but the new owner must at once pay .',\n",
       "    ' the Bank the amount of interest on the loan, which is 10% of the value of  the property.',\n",
       "    'The new owner who does this may then, at hislher option,  pay the principal or hold the property until some later turn, then lift the  mortgage.',\n",
       "    'If helshe holds property in this way until a later turn, helshe  must pay the interest again upon lifting the mortgage.',\n",
       "    ' Should you owe the Bank, instead of another player, more than you  can pay (because of taxes or penalties) even by selling off buildings  and mortgaging property, you must turn over all assets to the Bank.',\n",
       "    'In  this case, the Bank immediately sells by auction all property so taken,  except buildings.',\n",
       "    'A bankrupt player must immediately retire from the  game.'],\n",
       "   ['The last player left in the game wins.',\n",
       "    ' MISCEUANEOUS: Money can be loaned to a player only by the Bank  and then only by mortgaging property.',\n",
       "    'No player may borrow from or  lend money to another player.',\n",
       "    ' L  We will be happy to hear your questions or comments about this game.',\n",
       "    'Write to: Hasbro  Games, Consumer Affairs Dept.,',\n",
       "    'P.O. Box 200, Pawtucket, RI 02862.',\n",
       "    'Tel: 888-836-7025  (toll free).',\n",
       "    'Canadian consumers please write to: Hasbro Canada Corporation, 2350 de la  Province, Longueuil, QC Canada, J4G 1G2.',\n",
       "    ' The HASBRO, PARKER BROTHERS, and MONOPOLY names and logos, the distinctive design of  the gameboard, the four comer squares, the MR.',\n",
       "    'MONOPOLY name and character, and each of the  distinctive elements of the board and rules are trademarks of Hasbro for its property trading game  and game equipment.'],\n",
       "   ['02004,2007 Hasbro, Pawtucket, RI 02862.',\n",
       "    ' All Rights Reserved.',\n",
       "    'TM & @3 denote U.S. Trademarks.',\n",
       "    ' 00009-1  PROOF OF PURCHASE I']]},\n",
       " {'page_number': 3,\n",
       "  'char_count': 2089,\n",
       "  'page_word_count': 408,\n",
       "  'page_sentence_count': 17,\n",
       "  'page_token_count': 522.25,\n",
       "  'text': '\"GO\": Each time a player\\'s token lands on or passes over  GO, whether by throwing the dice or drawing a card,  the Banker pays himther a $200 sala,ry.  The $200 is paid only once each time kound  the board. However, if a player passing GO on  the throw of the dice lands 2 spaces beyond it  on Community Chest, or 7 spaces beyond  it on Chance, and draws the \"Advance to GO\" card, helshe collects  $200 for passing GO the first time and another $200 for reaching it the  second time by instructions on the card.  BUYING PROPERTY: Whenever you land on an unowned property you  may buy that property from the Bank at its printed price. You receive the  Title Deed card showing ownership; place it faceup in front of you.  If you do not wish to buy the property, the Banker sells it at auction  to the highest bidder. The buyer pays the Bank the amount of the bid  in cash and receives the Title Deed card for that property. Any player,  including the one who declined the option to buy it at the printed  price, may bid. Bidding may start at any price.  PAMNG  When you land on property owned by another player,  the owner collects rent from you in accordance with the list printed on  its Title Deed card.  If the property is mortgaged, no rent can be collected. When a  property is mortgaged, its Title Deed card is placed facedown in front  of the owner.  L  It is an advantage to hold all the Title Deed cards in a color-  group (e.g., Boardwalk and Park Place; or Connecticut, Vermont and  Oriental Avenues) because the owner may then charge double rent  for unimproved properties in that color-group. This rule applies to  unmortgaged properties even if another property in that color-group is  mortgaged.  It is even more advantageous to have houses or hotels on properties  because rents are much higher than for unimproved properties.  The owner may not collect the rent if he/she fails to ask for it before  the second player following throws the dice.  \"CHANCE\" AND \"COMMUNITY CHEST\": When you land on either of  these spaces, take the top card from the deck indicated, follow the',\n",
       "  'sentences': ['\"GO\": Each time a player\\'s token lands on or passes over  GO, whether by throwing the dice or drawing a card,  the Banker pays himther a $200 sala,ry.',\n",
       "   ' The $200 is paid only once each time kound  the board.',\n",
       "   'However, if a player passing GO on  the throw of the dice lands 2 spaces beyond it  on Community Chest, or 7 spaces beyond  it on Chance, and draws the \"Advance to GO\" card, helshe collects  $200 for passing GO the first time and another $200 for reaching it the  second time by instructions on the card.',\n",
       "   ' BUYING PROPERTY: Whenever you land on an unowned property you  may buy that property from the Bank at its printed price.',\n",
       "   'You receive the  Title Deed card showing ownership; place it faceup in front of you.',\n",
       "   ' If you do not wish to buy the property, the Banker sells it at auction  to the highest bidder.',\n",
       "   'The buyer pays the Bank the amount of the bid  in cash and receives the Title Deed card for that property.',\n",
       "   'Any player,  including the one who declined the option to buy it at the printed  price, may bid.',\n",
       "   'Bidding may start at any price.',\n",
       "   ' PAMNG  When you land on property owned by another player,  the owner collects rent from you in accordance with the list printed on  its Title Deed card.',\n",
       "   ' If the property is mortgaged, no rent can be collected.',\n",
       "   'When a  property is mortgaged, its Title Deed card is placed facedown in front  of the owner.',\n",
       "   ' L  It is an advantage to hold all the Title Deed cards in a color-  group (e.g., Boardwalk and Park Place; or Connecticut, Vermont and  Oriental Avenues) because the owner may then charge double rent  for unimproved properties in that color-group.',\n",
       "   'This rule applies to  unmortgaged properties even if another property in that color-group is  mortgaged.',\n",
       "   ' It is even more advantageous to have houses or hotels on properties  because rents are much higher than for unimproved properties.',\n",
       "   ' The owner may not collect the rent if he/she fails to ask for it before  the second player following throws the dice.',\n",
       "   ' \"CHANCE\" AND \"COMMUNITY CHEST\": When you land on either of  these spaces, take the top card from the deck indicated, follow the'],\n",
       "  'page_sentence_count_spacy': 17,\n",
       "  'sentence_chunks': [['\"GO\": Each time a player\\'s token lands on or passes over  GO, whether by throwing the dice or drawing a card,  the Banker pays himther a $200 sala,ry.',\n",
       "    ' The $200 is paid only once each time kound  the board.',\n",
       "    'However, if a player passing GO on  the throw of the dice lands 2 spaces beyond it  on Community Chest, or 7 spaces beyond  it on Chance, and draws the \"Advance to GO\" card, helshe collects  $200 for passing GO the first time and another $200 for reaching it the  second time by instructions on the card.',\n",
       "    ' BUYING PROPERTY: Whenever you land on an unowned property you  may buy that property from the Bank at its printed price.',\n",
       "    'You receive the  Title Deed card showing ownership; place it faceup in front of you.',\n",
       "    ' If you do not wish to buy the property, the Banker sells it at auction  to the highest bidder.',\n",
       "    'The buyer pays the Bank the amount of the bid  in cash and receives the Title Deed card for that property.',\n",
       "    'Any player,  including the one who declined the option to buy it at the printed  price, may bid.',\n",
       "    'Bidding may start at any price.',\n",
       "    ' PAMNG  When you land on property owned by another player,  the owner collects rent from you in accordance with the list printed on  its Title Deed card.'],\n",
       "   [' If the property is mortgaged, no rent can be collected.',\n",
       "    'When a  property is mortgaged, its Title Deed card is placed facedown in front  of the owner.',\n",
       "    ' L  It is an advantage to hold all the Title Deed cards in a color-  group (e.g., Boardwalk and Park Place; or Connecticut, Vermont and  Oriental Avenues) because the owner may then charge double rent  for unimproved properties in that color-group.',\n",
       "    'This rule applies to  unmortgaged properties even if another property in that color-group is  mortgaged.',\n",
       "    ' It is even more advantageous to have houses or hotels on properties  because rents are much higher than for unimproved properties.',\n",
       "    ' The owner may not collect the rent if he/she fails to ask for it before  the second player following throws the dice.',\n",
       "    ' \"CHANCE\" AND \"COMMUNITY CHEST\": When you land on either of  these spaces, take the top card from the deck indicated, follow the']]},\n",
       " {'page_number': 2,\n",
       "  'char_count': 2202,\n",
       "  'page_word_count': 444,\n",
       "  'page_sentence_count': 21,\n",
       "  'page_token_count': 550.5,\n",
       "  'text': 'Each player is given $1,500 divided as follows: P each of $500s,  $ 1 0 0 ~   and $50~; 6 $40~; 5 each of $105, $ 5 ~   and $Is.  All remaining money and other equipment go to the Bank. Stack the ..  Bank\\'s money on edge in the compartments in the plastic Banker\\'s tray.  BANKER. Select as Banker a player who will also  make a good Auctioneer A Banker who plays  ~n the game must keep hislher personal funds  separate from those of the Bank. When more than  f~ve persons play, the Banker may elect to act only  as Banker and Auctioneer.  THE BANK: Besides the Bank\\'s money, the Bank  holds the Title Deed cards and houses and hotels prior to purchase  and use by the players. The Bank pays salaries and bonuses. It sells  and auctions properties and hands out the~r proper Title Deed cards;  it sells houses and hotels to the players and loans money when  required on mortgages.  The Bank collects all taxes, fines, loans and interest, and the price of  all properties which it sells and auctions.  The Bank nwer \"goes broke.\" If the Bank runs out of money, the Banker  may issue as much more as needed by writing on any ordinary paper.  THE PLAY: Starting with the Banker, each player in turn throws the dice.  The player with the highest total starts the play: Place your  token on the corner marked \"GO,\" throw the dice and move  your token in the direction of the arrow the number of  spaces indicated by the dice. After you have completed  your play, the turn passes to the left. The tokens remain  on the spaces qccupied and proceed from that point on  the player\\'s next turn. Two or more tokens may rest on the  same space at the same time.  According to the space your token reaches, you may be entitled to  buy real estate or other properties -  or obliged to pay rent, pay taxes,  draw a Chance or Community Chest card, \"Go to Jail,\" etc.  If you throw doubles, you move your token as usual, the sum of the  two dice, and are subject to any privileges or penalties pertaining to  the space on which you land. Retaining the dice, throw again and move  your token as before. If you throw doubles three times in succession,  move your token immediately to the space marked \"In Jail\" (see JAIL).',\n",
       "  'sentences': ['Each player is given $1,500 divided as follows: P each of $500s,  $ 1 0 0 ~   and $50~; 6 $40~; 5 each of $105, $ 5 ~   and $Is.',\n",
       "   ' All remaining money and other equipment go to the Bank.',\n",
       "   \"Stack the ..  Bank's money on edge in the compartments in the plastic Banker's tray.\",\n",
       "   ' BANKER.',\n",
       "   'Select as Banker a player who will also  make a good Auctioneer A Banker who plays  ~n the game must keep hislher personal funds  separate from those of the Bank.',\n",
       "   'When more than  f~ve persons play, the Banker may elect to act only  as Banker and Auctioneer.',\n",
       "   \" THE BANK: Besides the Bank's money, the Bank  holds the Title Deed cards and houses and hotels prior to purchase  and use by the players.\",\n",
       "   'The Bank pays salaries and bonuses.',\n",
       "   'It sells  and auctions properties and hands out the~r proper Title Deed cards;  it sells houses and hotels to the players and loans money when  required on mortgages.',\n",
       "   ' The Bank collects all taxes, fines, loans and interest, and the price of  all properties which it sells and auctions.',\n",
       "   ' The Bank nwer \"goes broke.\"',\n",
       "   'If the Bank runs out of money, the Banker  may issue as much more as needed by writing on any ordinary paper.',\n",
       "   ' THE PLAY: Starting with the Banker, each player in turn throws the dice.',\n",
       "   ' The player with the highest total starts the play: Place your  token on the corner marked \"GO,\" throw the dice and move  your token in the direction of the arrow the number of  spaces indicated by the dice.',\n",
       "   'After you have completed  your play, the turn passes to the left.',\n",
       "   \"The tokens remain  on the spaces qccupied and proceed from that point on  the player's next turn.\",\n",
       "   'Two or more tokens may rest on the  same space at the same time.',\n",
       "   ' According to the space your token reaches, you may be entitled to  buy real estate or other properties -  or obliged to pay rent, pay taxes,  draw a Chance or Community Chest card, \"Go to Jail,\" etc.',\n",
       "   ' If you throw doubles, you move your token as usual, the sum of the  two dice, and are subject to any privileges or penalties pertaining to  the space on which you land.',\n",
       "   'Retaining the dice, throw again and move  your token as before.',\n",
       "   'If you throw doubles three times in succession,  move your token immediately to the space marked \"In Jail\" (see JAIL).'],\n",
       "  'page_sentence_count_spacy': 21,\n",
       "  'sentence_chunks': [['Each player is given $1,500 divided as follows: P each of $500s,  $ 1 0 0 ~   and $50~; 6 $40~; 5 each of $105, $ 5 ~   and $Is.',\n",
       "    ' All remaining money and other equipment go to the Bank.',\n",
       "    \"Stack the ..  Bank's money on edge in the compartments in the plastic Banker's tray.\",\n",
       "    ' BANKER.',\n",
       "    'Select as Banker a player who will also  make a good Auctioneer A Banker who plays  ~n the game must keep hislher personal funds  separate from those of the Bank.',\n",
       "    'When more than  f~ve persons play, the Banker may elect to act only  as Banker and Auctioneer.',\n",
       "    \" THE BANK: Besides the Bank's money, the Bank  holds the Title Deed cards and houses and hotels prior to purchase  and use by the players.\",\n",
       "    'The Bank pays salaries and bonuses.',\n",
       "    'It sells  and auctions properties and hands out the~r proper Title Deed cards;  it sells houses and hotels to the players and loans money when  required on mortgages.',\n",
       "    ' The Bank collects all taxes, fines, loans and interest, and the price of  all properties which it sells and auctions.'],\n",
       "   [' The Bank nwer \"goes broke.\"',\n",
       "    'If the Bank runs out of money, the Banker  may issue as much more as needed by writing on any ordinary paper.',\n",
       "    ' THE PLAY: Starting with the Banker, each player in turn throws the dice.',\n",
       "    ' The player with the highest total starts the play: Place your  token on the corner marked \"GO,\" throw the dice and move  your token in the direction of the arrow the number of  spaces indicated by the dice.',\n",
       "    'After you have completed  your play, the turn passes to the left.',\n",
       "    \"The tokens remain  on the spaces qccupied and proceed from that point on  the player's next turn.\",\n",
       "    'Two or more tokens may rest on the  same space at the same time.',\n",
       "    ' According to the space your token reaches, you may be entitled to  buy real estate or other properties -  or obliged to pay rent, pay taxes,  draw a Chance or Community Chest card, \"Go to Jail,\" etc.',\n",
       "    ' If you throw doubles, you move your token as usual, the sum of the  two dice, and are subject to any privileges or penalties pertaining to  the space on which you land.',\n",
       "    'Retaining the dice, throw again and move  your token as before.'],\n",
       "   ['If you throw doubles three times in succession,  move your token immediately to the space marked \"In Jail\" (see JAIL).']]}]"
      ]
     },
     "execution_count": 58,
     "metadata": {},
     "output_type": "execute_result"
    }
   ],
   "source": [
    "random.sample(pages_and_texts, k=3)"
   ]
  },
  {
   "cell_type": "code",
   "execution_count": null,
   "metadata": {},
   "outputs": [],
   "source": []
  }
 ],
 "metadata": {
  "kernelspec": {
   "display_name": "nlp",
   "language": "python",
   "name": "python3"
  },
  "language_info": {
   "codemirror_mode": {
    "name": "ipython",
    "version": 3
   },
   "file_extension": ".py",
   "mimetype": "text/x-python",
   "name": "python",
   "nbconvert_exporter": "python",
   "pygments_lexer": "ipython3",
   "version": "3.12.4"
  }
 },
 "nbformat": 4,
 "nbformat_minor": 2
}
